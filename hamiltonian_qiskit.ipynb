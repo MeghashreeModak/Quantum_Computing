{
 "cells": [
  {
   "cell_type": "code",
   "execution_count": 32,
   "id": "4681336b",
   "metadata": {},
   "outputs": [],
   "source": [
    "from qiskit_nature.second_q.operators import ElectronicIntegrals\n",
    "from qiskit_nature.problems.second_quantization.electronic import ElectronicStructureProblem\n",
    "from qiskit_nature.second_q.problems import ElectronicStructureProblem\n",
    "from qiskit_nature.converters.second_quantization import QubitConverter\n",
    "from qiskit_nature.mappers.second_quantization import JordanWignerMapper\n",
    "import numpy as np\n",
    "\n",
    "from qiskit_nature.drivers.second_quantization import PySCFDriver\n",
    "from qiskit_nature.problems.second_quantization.electronic import ElectronicStructureProblem\n",
    "\n",
    "from qiskit_nature.converters.second_quantization import QubitConverter\n",
    "from qiskit_nature.mappers.second_quantization import JordanWignerMapper\n",
    "from qiskit_nature.circuit.library import HartreeFock, UCC\n",
    "from qiskit.algorithms.optimizers import COBYLA, CG, SLSQP, L_BFGS_B\n",
    "from qiskit.algorithms import VQE\n",
    "from qiskit_nature.algorithms.ground_state_solvers.minimum_eigensolver_factories import NumPyMinimumEigensolverFactory\n",
    "from qiskit import Aer\n",
    "import numpy as np \n",
    "from qiskit_nature.algorithms.ground_state_solvers import GroundStateEigensolver\n",
    "from qiskit.circuit import Parameter, QuantumCircuit, QuantumRegister\n",
    "\n",
    "import logging\n",
    "logging.basicConfig(filename=\"H2_1.0.log\", level=logging.INFO)\n",
    "logger=logging.getLogger()\n",
    "logger.setLevel(logging.DEBUG)"
   ]
  },
  {
   "cell_type": "code",
   "execution_count": 34,
   "id": "013aecb1",
   "metadata": {},
   "outputs": [],
   "source": [
    "h1_a = np.array([\n",
    "    [0.5, -0.2, 0.1],\n",
    "    [-0.2, 0.8, -0.3],\n",
    "    [0.1, -0.3, 0.6]\n",
    "])\n",
    "\n",
    "hamiltonian = ElectronicIntegrals.from_raw_integrals(h1_a)\n",
    "# hamiltonian.second_q_coeffs()\n",
    "es_problem = ElectronicStructureProblem(hamiltonian)"
   ]
  },
  {
   "cell_type": "code",
   "execution_count": 39,
   "id": "f5249ad5",
   "metadata": {},
   "outputs": [
    {
     "ename": "AttributeError",
     "evalue": "'ElectronicIntegrals' object has no attribute 'run'",
     "output_type": "error",
     "traceback": [
      "\u001b[0;31m---------------------------------------------------------------------------\u001b[0m",
      "\u001b[0;31mAttributeError\u001b[0m                            Traceback (most recent call last)",
      "Cell \u001b[0;32mIn[39], line 3\u001b[0m\n\u001b[1;32m      1\u001b[0m mapper \u001b[38;5;241m=\u001b[39m JordanWignerMapper()\n\u001b[1;32m      2\u001b[0m converter \u001b[38;5;241m=\u001b[39m QubitConverter(mapper\u001b[38;5;241m=\u001b[39mmapper, two_qubit_reduction\u001b[38;5;241m=\u001b[39m\u001b[38;5;28;01mFalse\u001b[39;00m)\n\u001b[0;32m----> 3\u001b[0m second_q_op \u001b[38;5;241m=\u001b[39m \u001b[43mes_problem\u001b[49m\u001b[38;5;241;43m.\u001b[39;49m\u001b[43msecond_q_ops\u001b[49m\u001b[43m(\u001b[49m\u001b[43m)\u001b[49m\n\u001b[1;32m      4\u001b[0m \u001b[38;5;28mprint\u001b[39m(second_q_op[\u001b[38;5;124m'\u001b[39m\u001b[38;5;124mElectronicEnergy\u001b[39m\u001b[38;5;124m'\u001b[39m])\n\u001b[1;32m      5\u001b[0m qubit_op \u001b[38;5;241m=\u001b[39m converter\u001b[38;5;241m.\u001b[39mconvert(second_q_op[\u001b[38;5;124m'\u001b[39m\u001b[38;5;124mElectronicEnergy\u001b[39m\u001b[38;5;124m'\u001b[39m])\n",
      "File \u001b[0;32m~/.local/lib/python3.10/site-packages/qiskit_nature/problems/second_quantization/electronic/electronic_structure_problem.py:98\u001b[0m, in \u001b[0;36mElectronicStructureProblem.second_q_ops\u001b[0;34m(self)\u001b[0m\n\u001b[1;32m     86\u001b[0m \u001b[38;5;28;01mdef\u001b[39;00m \u001b[38;5;21msecond_q_ops\u001b[39m(\u001b[38;5;28mself\u001b[39m) \u001b[38;5;241m-\u001b[39m\u001b[38;5;241m>\u001b[39m ListOrDictType[SecondQuantizedOp]:\n\u001b[1;32m     87\u001b[0m \u001b[38;5;250m    \u001b[39m\u001b[38;5;124;03m\"\"\"Returns the second quantized operators associated with this Property.\u001b[39;00m\n\u001b[1;32m     88\u001b[0m \n\u001b[1;32m     89\u001b[0m \u001b[38;5;124;03m    If the arguments are returned as a `list`, the operators are in the following order: the\u001b[39;00m\n\u001b[0;32m   (...)\u001b[0m\n\u001b[1;32m     96\u001b[0m \u001b[38;5;124;03m        A `list` or `dict` of `SecondQuantizedOp` objects.\u001b[39;00m\n\u001b[1;32m     97\u001b[0m \u001b[38;5;124;03m    \"\"\"\u001b[39;00m\n\u001b[0;32m---> 98\u001b[0m     driver_result \u001b[38;5;241m=\u001b[39m \u001b[38;5;28;43mself\u001b[39;49m\u001b[38;5;241;43m.\u001b[39;49m\u001b[43mdriver\u001b[49m\u001b[38;5;241;43m.\u001b[39;49m\u001b[43mrun\u001b[49m()\n\u001b[1;32m    100\u001b[0m     \u001b[38;5;28mself\u001b[39m\u001b[38;5;241m.\u001b[39m_grouped_property \u001b[38;5;241m=\u001b[39m driver_result\n\u001b[1;32m    101\u001b[0m     \u001b[38;5;28mself\u001b[39m\u001b[38;5;241m.\u001b[39m_grouped_property_transformed \u001b[38;5;241m=\u001b[39m \u001b[38;5;28mself\u001b[39m\u001b[38;5;241m.\u001b[39m_transform(\u001b[38;5;28mself\u001b[39m\u001b[38;5;241m.\u001b[39m_grouped_property)\n",
      "\u001b[0;31mAttributeError\u001b[0m: 'ElectronicIntegrals' object has no attribute 'run'"
     ]
    }
   ],
   "source": [
    "mapper = JordanWignerMapper()\n",
    "converter = QubitConverter(mapper=mapper, two_qubit_reduction=False)\n",
    "second_q_op = es_problem.second_q_ops()\n",
    "print(second_q_op['ElectronicEnergy'])\n",
    "qubit_op = converter.convert(second_q_op['ElectronicEnergy'])\n",
    "print(qubit_op)"
   ]
  },
  {
   "cell_type": "code",
   "execution_count": null,
   "id": "795fcf21",
   "metadata": {},
   "outputs": [],
   "source": []
  }
 ],
 "metadata": {
  "kernelspec": {
   "display_name": "Python 3 (ipykernel)",
   "language": "python",
   "name": "python3"
  },
  "language_info": {
   "codemirror_mode": {
    "name": "ipython",
    "version": 3
   },
   "file_extension": ".py",
   "mimetype": "text/x-python",
   "name": "python",
   "nbconvert_exporter": "python",
   "pygments_lexer": "ipython3",
   "version": "3.10.6"
  }
 },
 "nbformat": 4,
 "nbformat_minor": 5
}
