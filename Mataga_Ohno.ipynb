{
 "cells": [
  {
   "cell_type": "code",
   "execution_count": 17,
   "id": "13cc866f",
   "metadata": {},
   "outputs": [
    {
     "name": "stdout",
     "output_type": "stream",
     "text": [
      "Mataga_Nishimoto\n",
      "Ohno\n"
     ]
    },
    {
     "data": {
      "text/plain": [
       "<matplotlib.legend.Legend at 0x7f2391547640>"
      ]
     },
     "execution_count": 17,
     "metadata": {},
     "output_type": "execute_result"
    },
    {
     "data": {
      "image/png": "[encoded data removed]",
      "text/plain": [
       "<Figure size 640x480 with 1 Axes>"
      ]
     },
     "metadata": {},
     "output_type": "display_data"
    }
   ],
   "source": [
    "import matplotlib.pyplot as plt\n",
    "\n",
    "x_mataga_nishimoto = []\n",
    "y_mataga_nishimoto = []\n",
    "\n",
    "def mataga_nishimoto(unit_dist, U, irange, jrange):\n",
    "    sum = 0\n",
    "    print(\"Mataga_Nishimoto\")\n",
    "    for i in range(1, irange+1):\n",
    "        for j in range(i+1, jrange+1):\n",
    "            if i != j:\n",
    "                rij = (j-i)*unit_dist\n",
    "                x_mataga_nishimoto.append(rij)\n",
    "                gamma = 1/((1/U)+rij)\n",
    "                y_mataga_nishimoto.append(gamma)\n",
    "#                 print(f\"gamma{i}{j}: {gamma}\")\n",
    "                \n",
    "x_ohno = []\n",
    "y_ohno = []\n",
    "\n",
    "                \n",
    "def ohno(unit_dist, U, irange, jrange):\n",
    "    sum = 0\n",
    "    print(\"Ohno\")\n",
    "    for i in range(1, irange+1):\n",
    "        for j in range(i+1, jrange+1):\n",
    "            if i != j:\n",
    "                rij = (j-i)*unit_dist\n",
    "                x_ohno.append(rij)\n",
    "                gamma = 1/(((1/U**2)+rij**2))**0.5\n",
    "                y_ohno.append(gamma)\n",
    "#                 print(f\"gamma{i}{j}: {gamma}\")\n",
    "\n",
    "mataga_nishimoto(1, 3, 10, 10)\n",
    "ohno(1, 3, 10, 10)\n",
    "plt.scatter(x_mataga_nishimoto,y_mataga_nishimoto)\n",
    "plt.scatter(x_ohno,y_ohno, marker=\"x\")\n",
    "plt.xlabel('r_ij')\n",
    "plt.ylabel(\"Gamma_ij\")\n",
    "plt.legend([\"Mataga Nishimoto\", \"Ohno\"])\n"
   ]
  },
  {
   "cell_type": "code",
   "execution_count": 24,
   "id": "31371705",
   "metadata": {},
   "outputs": [
    {
     "name": "stdout",
     "output_type": "stream",
     "text": [
      "236.35065671170935\n"
     ]
    }
   ],
   "source": [
    "import matplotlib.pyplot as plt\n",
    "\n",
    "\n",
    "def mataga_nishimoto(unit_dist, U, irange, jrange):\n",
    "    sum = 0\n",
    "    z = 2\n",
    "    for i in range(1, irange+1):\n",
    "        for j in range(i+1, jrange+1):\n",
    "            if i != j:\n",
    "                rij = (j-i)*unit_dist\n",
    "                gamma = 1/((1/U)+rij)\n",
    "                zi = z-i\n",
    "                zj = z-j\n",
    "                sum = sum + gamma*zi*zj\n",
    "    sum *= (1/2)\n",
    "    print(sum)\n",
    "#                 print(f\"gamma{i}{j}: {gamma}\")\n",
    "                \n",
    "def ohno(unit_dist, U, irange, jrange):\n",
    "    sum = 0\n",
    "    for i in range(1, irange+1):\n",
    "        for j in range(i+1, jrange+1):\n",
    "            if i != j:\n",
    "                rij = (j-i)*unit_dist\n",
    "                gamma = 1/(((1/U**2)+rij**2))**0.5\n",
    "#                 print(f\"gamma{i}{j}: {gamma}\")\n",
    "\n",
    "\n",
    "mataga_nishimoto(1, 3, 10, 10)\n",
    "ohno(1, 3, 10, 10)"
   ]
  },
  {
   "cell_type": "code",
   "execution_count": null,
   "id": "6642ed9f",
   "metadata": {},
   "outputs": [],
   "source": []
  },
  {
   "cell_type": "code",
   "execution_count": null,
   "id": "aa171f63",
   "metadata": {},
   "outputs": [],
   "source": []
  }
 ],
 "metadata": {
  "kernelspec": {
   "display_name": "Python 3 (ipykernel)",
   "language": "python",
   "name": "python3"
  },
  "language_info": {
   "codemirror_mode": {
    "name": "ipython",
    "version": 3
   },
   "file_extension": ".py",
   "mimetype": "text/x-python",
   "name": "python",
   "nbconvert_exporter": "python",
   "pygments_lexer": "ipython3",
   "version": "3.10.6"
  }
 },
 "nbformat": 4,
 "nbformat_minor": 5
}
