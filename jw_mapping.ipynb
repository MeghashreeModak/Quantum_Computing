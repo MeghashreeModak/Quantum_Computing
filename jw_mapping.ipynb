{
 "cells": [
  {
   "cell_type": "code",
   "execution_count": null,
   "id": "98f7ae0f",
   "metadata": {},
   "outputs": [],
   "source": [
    "from qiskit import QuantumCircuit, QuantumRegister\n",
    "from qiskit.quantum_info import Pauli\n",
    "from qiskit.aqua.operators import WeightedPauliOperator\n",
    "\n",
    "def jordan_wigner_hamiltonian(fermionic_hamiltonian):\n",
    "    n_qubits = fermionic_hamiltonian.shape[0]\n",
    "    qubits = QuantumRegister(n_qubits)\n",
    "    circuit = QuantumCircuit(qubits)\n",
    "    pauli_terms = []\n",
    "\n",
    "    for i in range(n_qubits):\n",
    "        # Diagonal term\n",
    "        diagonal_term = fermionic_hamiltonian[i, i]\n",
    "        if diagonal_term != 0:\n",
    "            circuit += diagonal_term * Pauli.from_label('I'*i + 'Z' + 'I'*(n_qubits-i-1)).to_circuit()\n",
    "        \n",
    "        for j in range(i+1, n_qubits):\n",
    "            # Non-diagonal term\n",
    "            non_diagonal_term = fermionic_hamiltonian[i, j]\n",
    "            if non_diagonal_term != 0:\n",
    "                z_term = Pauli.from_label('I'*i + 'Z' + 'I'*(j-i-1) + 'Z' + 'I'*(n_qubits-j-1))\n",
    "                x_term = Pauli.from_label('I'*i + 'Z' + 'I'*(j-i-1) + 'X' + 'I'*(n_qubits-j-1))\n",
    "                pauli_terms.append(0.5 * non_diagonal_term * (z_term + x_term))\n",
    "    \n",
    "    qubit_hamiltonian = WeightedPauliOperator(paulis=pauli_terms)\n",
    "    return qubit_hamiltonian\n",
    "\n",
    "# Example usage\n",
    "fermionic_hamiltonian = np.array([[1, 0, 0, 0],\n",
    "                                  [0, -1, 2, 0],\n",
    "                                  [0, 2, -1, 0],\n",
    "                                  [0, 0, 0, 1]])\n",
    "\n",
    "qubit_hamiltonian = jordan_wigner_hamiltonian(fermionic_hamiltonian)\n",
    "print(qubit_hamiltonian)\n"
   ]
  },
  {
   "cell_type": "code",
   "execution_count": null,
   "id": "fa66076a",
   "metadata": {},
   "outputs": [
    {
     "name": "stdout",
     "output_type": "stream",
     "text": [
      "Defaulting to user installation because normal site-packages is not writeable\n",
      "Collecting qiskit.aqua\n",
      "  Using cached qiskit_aqua-0.9.5-py3-none-any.whl (2.1 MB)\n",
      "Collecting qiskit-ignis>=0.6.0\n",
      "  Using cached qiskit_ignis-0.7.1-py3-none-any.whl (198 kB)\n",
      "Requirement already satisfied: qiskit-terra>=0.18.0 in /home/meghashree/.local/lib/python3.10/site-packages (from qiskit.aqua) (0.24.0)\n",
      "Requirement already satisfied: scipy>=1.4 in /home/meghashree/.local/lib/python3.10/site-packages (from qiskit.aqua) (1.10.1)\n",
      "Requirement already satisfied: sympy>=1.3 in /home/meghashree/.local/lib/python3.10/site-packages (from qiskit.aqua) (1.12)\n",
      "Requirement already satisfied: psutil>=5 in /home/meghashree/.local/lib/python3.10/site-packages (from qiskit.aqua) (5.9.4)\n",
      "Collecting dlx<=1.0.4\n",
      "  Using cached dlx-1.0.4.tar.gz (5.5 kB)\n",
      "  Preparing metadata (setup.py) ... \u001b[?25ldone\n",
      "\u001b[?25hCollecting fastdtw<=0.3.4\n",
      "  Using cached fastdtw-0.3.4.tar.gz (133 kB)\n",
      "  Preparing metadata (setup.py) ... \u001b[?25ldone\n",
      "\u001b[?25hCollecting retworkx>=0.8.0\n",
      "  Using cached retworkx-0.12.1-py3-none-any.whl (10 kB)\n",
      "Requirement already satisfied: scikit-learn>=0.20.0 in /home/meghashree/.local/lib/python3.10/site-packages (from qiskit.aqua) (1.2.2)\n",
      "Requirement already satisfied: setuptools>=40.1.0 in /usr/lib/python3/dist-packages (from qiskit.aqua) (59.6.0)\n",
      "Collecting quandl\n",
      "  Using cached Quandl-3.7.0-py2.py3-none-any.whl (26 kB)\n",
      "Requirement already satisfied: numpy>=1.17 in /home/meghashree/.local/lib/python3.10/site-packages (from qiskit.aqua) (1.24.3)\n",
      "Collecting yfinance>=0.1.62\n",
      "  Using cached yfinance-0.2.18-py2.py3-none-any.whl (60 kB)\n",
      "Collecting pandas\n",
      "  Using cached pandas-2.0.2-cp310-cp310-manylinux_2_17_x86_64.manylinux2014_x86_64.whl (12.3 MB)\n",
      "Collecting docplex>=2.21.207\n",
      "  Using cached docplex-2.25.236.tar.gz (633 kB)\n",
      "  Preparing metadata (setup.py) ... \u001b[?25ldone\n",
      "\u001b[?25hCollecting h5py<3.3.0\n",
      "  Using cached h5py-3.2.1.tar.gz (368 kB)\n",
      "  Installing build dependencies ... \u001b[?25ldone\n",
      "\u001b[?25h  Getting requirements to build wheel ... \u001b[?25ldone\n",
      "\u001b[?25h  Installing backend dependencies ... \u001b[?25l\\"
     ]
    }
   ],
   "source": [
    "pip install qiskit.aqua\n"
   ]
  },
  {
   "cell_type": "code",
   "execution_count": null,
   "id": "1fc6e7d1",
   "metadata": {},
   "outputs": [],
   "source": []
  }
 ],
 "metadata": {
  "kernelspec": {
   "display_name": "Python 3 (ipykernel)",
   "language": "python",
   "name": "python3"
  },
  "language_info": {
   "codemirror_mode": {
    "name": "ipython",
    "version": 3
   },
   "file_extension": ".py",
   "mimetype": "text/x-python",
   "name": "python",
   "nbconvert_exporter": "python",
   "pygments_lexer": "ipython3",
   "version": "3.10.6"
  }
 },
 "nbformat": 4,
 "nbformat_minor": 5
}
