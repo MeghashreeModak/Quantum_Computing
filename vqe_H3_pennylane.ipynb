{
 "cells": [
  {
   "cell_type": "code",
   "execution_count": 1,
   "id": "3a063332",
   "metadata": {},
   "outputs": [],
   "source": [
    "import pennylane as qml\n",
    "from pennylane import numpy as np\n",
    "from pennylane import qchem"
   ]
  },
  {
   "cell_type": "code",
   "execution_count": 2,
   "id": "20520bf0",
   "metadata": {},
   "outputs": [],
   "source": [
    "symbols = [\"H\", \"H\", \"H\"]\n",
    "coordinates = np.array([[0.0102,0.0442,0.0], [0.9867,1.6303,0.0], \n",
    "                       [1.8720,-0.0085,0.0]])\n"
   ]
  },
  {
   "cell_type": "code",
   "execution_count": 3,
   "id": "1841a81b",
   "metadata": {},
   "outputs": [],
   "source": [
    "hamiltonian, qubits = qchem.molecular_hamiltonian(symbols,\n",
    "                                                  coordinates,\n",
    "                                                 charge=1)"
   ]
  },
  {
   "cell_type": "code",
   "execution_count": 4,
   "id": "222f92ce",
   "metadata": {},
   "outputs": [
    {
     "name": "stdout",
     "output_type": "stream",
     "text": [
      "6\n"
     ]
    }
   ],
   "source": [
    "print(qubits)"
   ]
  },
  {
   "cell_type": "code",
   "execution_count": 5,
   "id": "1fa58f8a",
   "metadata": {},
   "outputs": [],
   "source": [
    "hf = qchem.hf_state(electrons = 2, orbitals = 6)"
   ]
  },
  {
   "cell_type": "code",
   "execution_count": 6,
   "id": "c3535ad7",
   "metadata": {},
   "outputs": [
    {
     "name": "stdout",
     "output_type": "stream",
     "text": [
      "[1 1 0 0 0 0]\n"
     ]
    }
   ],
   "source": [
    "print(hf)"
   ]
  },
  {
   "cell_type": "code",
   "execution_count": 7,
   "id": "1c923d71",
   "metadata": {},
   "outputs": [],
   "source": [
    "num_wires = qubits\n",
    "dev = qml.device(\"default.qubit\", wires=num_wires)"
   ]
  },
  {
   "cell_type": "code",
   "execution_count": 8,
   "id": "2921e8a3",
   "metadata": {},
   "outputs": [],
   "source": [
    "@qml.qnode(dev)\n",
    "def exp_energy(state):\n",
    "    qml.BasisState(np.array(state), wires=range(num_wires))\n",
    "    return qml.expval(hamiltonian)"
   ]
  },
  {
   "cell_type": "code",
   "execution_count": 9,
   "id": "7756736e",
   "metadata": {},
   "outputs": [
    {
     "data": {
      "text/plain": [
       "tensor(-1.24655016, requires_grad=True)"
      ]
     },
     "execution_count": 9,
     "metadata": {},
     "output_type": "execute_result"
    }
   ],
   "source": [
    "exp_energy(hf)"
   ]
  },
  {
   "cell_type": "code",
   "execution_count": 10,
   "id": "e32f711f",
   "metadata": {},
   "outputs": [],
   "source": [
    "def ansatz(params):\n",
    "    qml.BasisState(hf,wires=range(num_wires))\n",
    "    qml.DoubleExcitation(params[0],wires=[0,1,2,3])\n",
    "    qml.DoubleExcitation(params[1],wires=[0,1,4,5])"
   ]
  },
  {
   "cell_type": "code",
   "execution_count": 11,
   "id": "e900100c",
   "metadata": {},
   "outputs": [],
   "source": [
    "@qml.qnode(dev)\n",
    "def cost_function(params):\n",
    "    ansatz(params)\n",
    "    return qml.expval(hamiltonian)"
   ]
  },
  {
   "cell_type": "code",
   "execution_count": 12,
   "id": "a09883f6",
   "metadata": {},
   "outputs": [
    {
     "data": {
      "text/plain": [
       "tensor(-1.26796721, requires_grad=True)"
      ]
     },
     "execution_count": 12,
     "metadata": {},
     "output_type": "execute_result"
    }
   ],
   "source": [
    "cost_function([0.1,0.1])"
   ]
  },
  {
   "cell_type": "code",
   "execution_count": 14,
   "id": "a56b039e",
   "metadata": {},
   "outputs": [
    {
     "name": "stdout",
     "output_type": "stream",
     "text": [
      "Step = 0,  Energy = -1.26070025 Ha\n",
      "Step = 2,  Energy = -1.27115671 Ha\n",
      "Step = 4,  Energy = -1.27365804 Ha\n",
      "Step = 6,  Energy = -1.27425241 Ha\n",
      "Step = 8,  Energy = -1.27439362 Ha\n",
      "Step = 10,  Energy = -1.27442718 Ha\n",
      "Step = 12,  Energy = -1.27443517 Ha\n",
      "Step = 14,  Energy = -1.27443707 Ha\n",
      "Step = 16,  Energy = -1.27443752 Ha\n",
      "Step = 18,  Energy = -1.27443763 Ha\n"
     ]
    }
   ],
   "source": [
    "opt = qml.GradientDescentOptimizer(stepsize=0.4)\n",
    "theta = np.array([0.0,0.0], requires_grad=True)\n",
    "\n",
    "# store the values of the cost function\n",
    "energy = [cost_function(theta)]\n",
    "\n",
    "# store the values of the circuit parameter\n",
    "angle = [theta]\n",
    "\n",
    "max_iterations = 20\n",
    "\n",
    "\n",
    "for n in range(max_iterations):\n",
    "    theta, prev_energy = opt.step_and_cost(cost_function, theta)\n",
    "\n",
    "    energy.append(cost_function(theta))\n",
    "    angle.append(theta)\n",
    "\n",
    "    conv = np.abs(energy[-1] - prev_energy)\n",
    "\n",
    "    if n % 2 == 0:\n",
    "        print(f\"Step = {n},  Energy = {energy[-1]:.8f} Ha\")"
   ]
  },
  {
   "cell_type": "code",
   "execution_count": 15,
   "id": "820d474f",
   "metadata": {},
   "outputs": [
    {
     "name": "stdout",
     "output_type": "stream",
     "text": [
      "\n",
      "Final value of the ground-state energy = -1.27443764 Ha\n",
      "\n",
      "Final angle parameters = 0.19203468 0.19290335\n"
     ]
    }
   ],
   "source": [
    "print(\"\\n\" f\"Final value of the ground-state energy = {energy[-1]:.8f} Ha\")\n",
    "print(\"\\n\" f\"Final angle parameters = {theta[0]:.8f} {theta[1]:.8f}\")"
   ]
  },
  {
   "cell_type": "code",
   "execution_count": 16,
   "id": "817aaccd",
   "metadata": {},
   "outputs": [],
   "source": [
    "@qml.qnode(dev)\n",
    "def ground_state(params):\n",
    "    ansatz(params)\n",
    "    return qml.state()"
   ]
  },
  {
   "cell_type": "code",
   "execution_count": 17,
   "id": "88d5096c",
   "metadata": {},
   "outputs": [
    {
     "data": {
      "text/plain": [
       "tensor([ 0.        +0.j,  0.        +0.j,  0.        +0.j,\n",
       "        -0.09585862+0.j,  0.        +0.j,  0.        +0.j,\n",
       "         0.        +0.j,  0.        +0.j,  0.        +0.j,\n",
       "         0.        +0.j,  0.        +0.j,  0.        +0.j,\n",
       "        -0.09586987+0.j,  0.        +0.j,  0.        +0.j,\n",
       "         0.        +0.j,  0.        +0.j,  0.        +0.j,\n",
       "         0.        +0.j,  0.        +0.j,  0.        +0.j,\n",
       "         0.        +0.j,  0.        +0.j,  0.        +0.j,\n",
       "         0.        +0.j,  0.        +0.j,  0.        +0.j,\n",
       "         0.        +0.j,  0.        +0.j,  0.        +0.j,\n",
       "         0.        +0.j,  0.        +0.j,  0.        +0.j,\n",
       "         0.        +0.j,  0.        +0.j,  0.        +0.j,\n",
       "         0.        +0.j,  0.        +0.j,  0.        +0.j,\n",
       "         0.        +0.j,  0.        +0.j,  0.        +0.j,\n",
       "         0.        +0.j,  0.        +0.j,  0.        +0.j,\n",
       "         0.        +0.j,  0.        +0.j,  0.        +0.j,\n",
       "         0.99076743+0.j,  0.        +0.j,  0.        +0.j,\n",
       "         0.        +0.j,  0.        +0.j,  0.        +0.j,\n",
       "         0.        +0.j,  0.        +0.j,  0.        +0.j,\n",
       "         0.        +0.j,  0.        +0.j,  0.        +0.j,\n",
       "         0.        +0.j,  0.        +0.j,  0.        +0.j,\n",
       "         0.        +0.j], requires_grad=True)"
      ]
     },
     "execution_count": 17,
     "metadata": {},
     "output_type": "execute_result"
    }
   ],
   "source": [
    "ground_state(theta)"
   ]
  },
  {
   "cell_type": "markdown",
   "id": "11c27bd1",
   "metadata": {},
   "source": [
    "/ground state > = 0.9908/110000> - 0.096/001100> - 0.096/000011>"
   ]
  },
  {
   "cell_type": "code",
   "execution_count": null,
   "id": "25b19fb4",
   "metadata": {},
   "outputs": [],
   "source": []
  }
 ],
 "metadata": {
  "kernelspec": {
   "display_name": "Python 3 (ipykernel)",
   "language": "python",
   "name": "python3"
  },
  "language_info": {
   "codemirror_mode": {
    "name": "ipython",
    "version": 3
   },
   "file_extension": ".py",
   "mimetype": "text/x-python",
   "name": "python",
   "nbconvert_exporter": "python",
   "pygments_lexer": "ipython3",
   "version": "3.10.6"
  }
 },
 "nbformat": 4,
 "nbformat_minor": 5
}
