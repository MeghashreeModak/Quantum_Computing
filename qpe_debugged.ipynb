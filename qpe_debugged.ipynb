{
 "cells": [
  {
   "cell_type": "code",
   "execution_count": 1,
   "metadata": {},
   "outputs": [],
   "source": [
    "import numpy as np\n",
    "from random import random\n",
    "from qiskit import *\n",
    "from qiskit.tools.visualization import *\n",
    "\n"
   ]
  },
  {
   "cell_type": "code",
   "execution_count": 2,
   "metadata": {},
   "outputs": [],
   "source": [
    "# This code is part of Qiskit.\n",
    "#\n",
    "# (C) Copyright IBM 2018, 2021.\n",
    "#\n",
    "# This code is licensed under the Apache License, Version 2.0. You may\n",
    "# obtain a copy of this license in the LICENSE.txt file in the root directory\n",
    "# of this source tree or at http://www.apache.org/licenses/LICENSE-2.0.\n",
    "#\n",
    "# Any modifications or derivative works of this code must retain this\n",
    "# copyright notice, and modified files need to carry a notice indicating\n",
    "# that they have been altered from the originals.\n",
    "\n",
    "\"\"\" controlled circuit \"\"\"\n",
    "\n",
    "from qiskit.circuit import QuantumCircuit\n",
    "from qiskit.converters import circuit_to_dag, dag_to_circuit\n",
    "from qiskit.transpiler.passes import Unroller\n",
    "\n",
    "\n",
    "# pylint: disable=invalid-name\n",
    "def apply_cp(circuit, lam, c, t, use_basis_gates=True):\n",
    "    \"\"\" apply cp \"\"\"\n",
    "    if use_basis_gates:\n",
    "        circuit.p(lam / 2, c)\n",
    "        circuit.cx(c, t)\n",
    "        circuit.p(-lam / 2, t)\n",
    "        circuit.cx(c, t)\n",
    "        circuit.p(lam / 2, t)\n",
    "    else:\n",
    "        circuit.cp(lam, c, t)\n",
    "\n",
    "\n",
    "def apply_cu(circuit, theta, phi, lam, c, t, use_basis_gates=True):\n",
    "    \"\"\" apply cu \"\"\"\n",
    "    if use_basis_gates:\n",
    "        circuit.p((lam + phi) / 2, c)\n",
    "        circuit.p((lam - phi) / 2, t)\n",
    "        circuit.cx(c, t)\n",
    "        circuit.u(-theta / 2, 0, -(phi + lam) / 2, t)\n",
    "        circuit.cx(c, t)\n",
    "        circuit.u(theta / 2, phi, 0, t)\n",
    "    else:\n",
    "        circuit.cu(theta, phi, lam, 0, c, t)\n",
    "\n",
    "\n",
    "# pylint: disable=invalid-name\n",
    "def apply_ccx(circuit, a, b, c, use_basis_gates=True):\n",
    "    \"\"\" apply ccx \"\"\"\n",
    "    if use_basis_gates:\n",
    "        circuit.h(c)\n",
    "        circuit.cx(b, c)\n",
    "        circuit.tdg(c)\n",
    "        circuit.cx(a, c)\n",
    "        circuit.t(c)\n",
    "        circuit.cx(b, c)\n",
    "        circuit.tdg(c)\n",
    "        circuit.cx(a, c)\n",
    "        circuit.t(b)\n",
    "        circuit.t(c)\n",
    "        circuit.h(c)\n",
    "        circuit.cx(a, b)\n",
    "        circuit.t(a)\n",
    "        circuit.tdg(b)\n",
    "        circuit.cx(a, b)\n",
    "    else:\n",
    "        circuit.ccx(a, b, c)\n",
    "\n",
    "\n",
    "def get_controlled_circuit(circuit, ctl_qubit, tgt_circuit=None, use_basis_gates=True):\n",
    "    \"\"\"\n",
    "    Construct the controlled version of a given circuit.\n",
    "\n",
    "    Args:\n",
    "        circuit (QuantumCircuit) : the base circuit\n",
    "        ctl_qubit (Qubit) : the control qubit to use\n",
    "        tgt_circuit (QuantumCircuit) : the target controlled circuit to be modified in-place\n",
    "        use_basis_gates (bool) : boolean flag to indicate whether or not\n",
    "                                only basis gates should be used\n",
    "\n",
    "    Return:\n",
    "        QuantumCircuit: a QuantumCircuit object with the base circuit being controlled by ctl_qubit\n",
    "    Raises:\n",
    "        RuntimeError: unexpected operation\n",
    "    \"\"\"\n",
    "    if tgt_circuit is not None:\n",
    "        qc = tgt_circuit\n",
    "    else:\n",
    "        qc = QuantumCircuit()\n",
    "\n",
    "    # get all the qubits and clbits\n",
    "    qregs = circuit.qregs\n",
    "    qubits = []\n",
    "    for qreg in qregs:\n",
    "        if not qc.has_register(qreg):\n",
    "            qc.add_register(qreg)\n",
    "        qubits.extend(qreg)\n",
    "    cregs = circuit.cregs\n",
    "    clbits = []\n",
    "    for creg in cregs:\n",
    "        if not qc.has_register(cregclbits.extend(creg)):\n",
    "            qc.add_register(creg)\n",
    "\n",
    "    # get all operations\n",
    "    unroller = Unroller(basis=['u', 'p', 'cx'])\n",
    "    ops = dag_to_circuit(unroller.run(circuit_to_dag(circuit))).data\n",
    "\n",
    "    # process all basis gates to add control\n",
    "    if not qc.has_register(ctl_qubit._register):\n",
    "        qc.add_register(ctl_qubit._register)\n",
    "    for op in ops:\n",
    "        if op[0].name == 'id':\n",
    "            apply_cu(qc, 0, 0, 0, ctl_qubit, op[1][0], use_basis_gates=use_basis_gates)\n",
    "        elif op[0].name == 'p':\n",
    "            apply_cp(qc, *op[0].params, ctl_qubit, op[1][0], use_basis_gates=use_basis_gates)\n",
    "        elif op[0].name == 'u':\n",
    "            apply_cu(qc, *op[0].params, ctl_qubit, op[1][0], use_basis_gates=use_basis_gates)\n",
    "        elif op[0].name == 'cx':\n",
    "            apply_ccx(qc, ctl_qubit, op[1][0], op[1][1], use_basis_gates=use_basis_gates)\n",
    "        elif op[0].name == 'measure':\n",
    "            qc.measure(op[1], op[2])\n",
    "        elif op[0].name == 'barrier':\n",
    "            qc.barrier(op[1])\n",
    "        else:\n",
    "            raise RuntimeError('Unexpected operation {}.'.format(op[0].name))\n",
    "\n",
    "    return qc"
   ]
  },
  {
   "cell_type": "code",
   "execution_count": 3,
   "metadata": {},
   "outputs": [
    {
     "data": {
      "text/plain": [
       "<qiskit.circuit.instructionset.InstructionSet at 0x7ff9f7d4a980>"
      ]
     },
     "execution_count": 3,
     "metadata": {},
     "output_type": "execute_result"
    }
   ],
   "source": [
    "num_bits_estimate = 10\n",
    "# For 2x2 matrix one qubit is enough\n",
    "q = QuantumRegister(1, name=\"q\")\n",
    "# In QPE we use n ancillas to estimate n bits from the phase\n",
    "a = QuantumRegister(num_bits_estimate, name=\"a\") \n",
    "# For n ancillary qubit measurment we need n cllasical bits\n",
    "c = ClassicalRegister(num_bits_estimate, name=\"c\") \n",
    "\n",
    "# Create a quantum circuit\n",
    "circuit = QuantumCircuit(a, q, c)\n",
    "\n",
    "# |1> eigenstate initialization\n",
    "circuit.x(q[0])\n",
    "#circuit.draw(output = 'mpl')"
   ]
  },
  {
   "cell_type": "code",
   "execution_count": 4,
   "metadata": {},
   "outputs": [
    {
     "name": "stdout",
     "output_type": "stream",
     "text": [
      "We are going to estimate E_2 via QPE algorithm \n",
      "E_2 = 2.0867968274989357\n"
     ]
    },
    {
     "data": {
      "text/plain": [
       "<qiskit.circuit.instructionset.InstructionSet at 0x7ff9f7d4a410>"
      ]
     },
     "execution_count": 4,
     "metadata": {},
     "output_type": "execute_result"
    }
   ],
   "source": [
    "E_1, E_2 = (2 * np.pi * random(), 2 * np.pi * random())\n",
    "print(\"We are going to estimate E_2 via QPE algorithm \\nE_2 = {}\".format(E_2))\n",
    "\n",
    "# circuit for unitary operator exp(iHt)\n",
    "t = 1\n",
    "unitary = QuantumCircuit(q)\n",
    "\n",
    "unitary.p(E_2 * t, q[0]) # q[0] is the only qubit in q register\n",
    "unitary.x(q[0])\n",
    "unitary.p(E_1 * t, q[0])\n",
    "unitary.x(q[0])\n",
    "#unitary.draw(output='mpl')"
   ]
  },
  {
   "cell_type": "code",
   "execution_count": 5,
   "metadata": {},
   "outputs": [],
   "source": [
    "for ancillary in a:\n",
    "    circuit.h(ancillary)\n",
    "#circuit.draw(output = 'mpl')"
   ]
  },
  {
   "cell_type": "code",
   "execution_count": 6,
   "metadata": {},
   "outputs": [],
   "source": [
    "E_1, E_2 = (2 * np.pi * random(), 2 * np.pi * random())\n",
    "t = 1\n",
    "for ancillary in a:\n",
    "    circuit.cp(E_2 * t,ancillary,q)\n",
    "\n",
    "#circuit.draw(output = 'mpl')"
   ]
  },
  {
   "cell_type": "code",
   "execution_count": 7,
   "metadata": {},
   "outputs": [],
   "source": [
    "for ancillary in a:\n",
    "    circuit.h(ancillary)"
   ]
  },
  {
   "cell_type": "code",
   "execution_count": 8,
   "metadata": {},
   "outputs": [],
   "source": [
    "for n in range(a.size):\n",
    "    for m in range(2**n):\n",
    "        get_controlled_circuit(unitary, a[n], circuit)"
   ]
  },
  {
   "cell_type": "code",
   "execution_count": 9,
   "metadata": {},
   "outputs": [],
   "source": [
    "# inverse QFT without SWAP gates\n",
    "for n in reversed(range(a.size)):\n",
    "    circuit.h(a[n])\n",
    "    if n != 0:\n",
    "        for m in reversed(range(n)):\n",
    "            angle = -2*np.pi / (2**(n - m + 1))\n",
    "            circuit.cp(angle, a[n], a[m])\n",
    "\n",
    "# measurements on the ancillary qubits stored in c classical register\n",
    "for n in reversed(range(a.size)):\n",
    "    circuit.measure(a[n],c[n])\n",
    "#circuit.draw(output = 'mpl')"
   ]
  },
  {
   "cell_type": "code",
   "execution_count": 14,
   "metadata": {},
   "outputs": [
    {
     "name": "stdout",
     "output_type": "stream",
     "text": [
      "Eigenvalue of the Hamiltonian: 1.381239237506915\n",
      "Estimated eigenvalue of the Hamiltonian: 1.6689710972195777\n"
     ]
    }
   ],
   "source": [
    "backend = BasicAer.get_backend('qasm_simulator')\n",
    "shots = 1024  # how many time execute the algorithm\n",
    "job = execute(circuit, backend, shots=shots)\n",
    "result = job.result()\n",
    "counts = result.get_counts()\n",
    "\n",
    "phase_bits = max(counts, key=counts.get) # take the most often obtaned result\n",
    "\n",
    "phase = 0\n",
    "for index, bit in enumerate(reversed(phase_bits)):\n",
    "    phase += int(bit) / 2**(index + 1)\n",
    "    \n",
    "estimated_E_2 = 2 * np.pi * phase / t\n",
    "\n",
    "print(\"Eigenvalue of the Hamiltonian: {}\".format(E_2))\n",
    "print(\"Estimated eigenvalue of the Hamiltonian: {}\".format(estimated_E_2))"
   ]
  },
  {
   "cell_type": "code",
   "execution_count": null,
   "metadata": {},
   "outputs": [],
   "source": []
  }
 ],
 "metadata": {
  "kernelspec": {
   "display_name": "Python 3 (ipykernel)",
   "language": "python",
   "name": "python3"
  },
  "language_info": {
   "codemirror_mode": {
    "name": "ipython",
    "version": 3
   },
   "file_extension": ".py",
   "mimetype": "text/x-python",
   "name": "python",
   "nbconvert_exporter": "python",
   "pygments_lexer": "ipython3",
   "version": "3.10.6"
  }
 },
 "nbformat": 4,
 "nbformat_minor": 2
}
