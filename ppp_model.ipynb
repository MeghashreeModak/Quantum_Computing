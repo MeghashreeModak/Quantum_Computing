{
 "cells": [
  {
   "cell_type": "code",
   "execution_count": 52,
   "id": "35955cc3",
   "metadata": {},
   "outputs": [],
   "source": [
    "from qiskit.opflow import X, Z, I, SummedOp\n",
    "from qiskit.quantum_info import Pauli\n",
    "from qiskit.opflow import PauliSumOp\n",
    "from qiskit.circuit.library import TwoLocal\n",
    "import numpy as np"
   ]
  },
  {
   "cell_type": "markdown",
   "id": "576adad4",
   "metadata": {},
   "source": [
    "# Function for Jordan-Wigner Mapping"
   ]
  },
  {
   "cell_type": "code",
   "execution_count": 53,
   "id": "7c0ce494",
   "metadata": {},
   "outputs": [],
   "source": [
    "def jordan_wigner(N):\n",
    "    \"\"\"\n",
    "    Jordan-Wigner transformation for N qubits.\n",
    "    \"\"\"\n",
    "    sigma_x = np.array([[0, 1], [1, 0]])\n",
    "    sigma_z = np.array([[1, 0], [0, -1]])\n",
    "    X = np.eye(2)\n",
    "    Z = np.eye(2)\n",
    "    for i in range(N-1):\n",
    "        X = np.kron(X, sigma_x)\n",
    "        Z = np.kron(Z, sigma_z)\n",
    "    X_list = [np.eye(2**(N-i-1)) for i in range(N)]\n",
    "    Z_list = [np.eye(2**(N-i-1)) for i in range(N)]\n",
    "    for i in range(N):\n",
    "        X_list[i] = np.kron(X_list[i], sigma_x)\n",
    "        Z_list[i] = np.kron(Z_list[i], sigma_z)\n",
    "    Y_list = [1j*a.dot(b) for a,b in zip(X_list,Z_list)]\n",
    "    return X,Y_list,Z"
   ]
  },
  {
   "cell_type": "code",
   "execution_count": 54,
   "id": "33b3cf31",
   "metadata": {},
   "outputs": [
    {
     "name": "stdout",
     "output_type": "stream",
     "text": [
      "(array([[0., 0., 0., 0., 0., 0., 0., 1., 0., 0., 0., 0., 0., 0., 0., 0.],\n",
      "       [0., 0., 0., 0., 0., 0., 1., 0., 0., 0., 0., 0., 0., 0., 0., 0.],\n",
      "       [0., 0., 0., 0., 0., 1., 0., 0., 0., 0., 0., 0., 0., 0., 0., 0.],\n",
      "       [0., 0., 0., 0., 1., 0., 0., 0., 0., 0., 0., 0., 0., 0., 0., 0.],\n",
      "       [0., 0., 0., 1., 0., 0., 0., 0., 0., 0., 0., 0., 0., 0., 0., 0.],\n",
      "       [0., 0., 1., 0., 0., 0., 0., 0., 0., 0., 0., 0., 0., 0., 0., 0.],\n",
      "       [0., 1., 0., 0., 0., 0., 0., 0., 0., 0., 0., 0., 0., 0., 0., 0.],\n",
      "       [1., 0., 0., 0., 0., 0., 0., 0., 0., 0., 0., 0., 0., 0., 0., 0.],\n",
      "       [0., 0., 0., 0., 0., 0., 0., 0., 0., 0., 0., 0., 0., 0., 0., 1.],\n",
      "       [0., 0., 0., 0., 0., 0., 0., 0., 0., 0., 0., 0., 0., 0., 1., 0.],\n",
      "       [0., 0., 0., 0., 0., 0., 0., 0., 0., 0., 0., 0., 0., 1., 0., 0.],\n",
      "       [0., 0., 0., 0., 0., 0., 0., 0., 0., 0., 0., 0., 1., 0., 0., 0.],\n",
      "       [0., 0., 0., 0., 0., 0., 0., 0., 0., 0., 0., 1., 0., 0., 0., 0.],\n",
      "       [0., 0., 0., 0., 0., 0., 0., 0., 0., 0., 1., 0., 0., 0., 0., 0.],\n",
      "       [0., 0., 0., 0., 0., 0., 0., 0., 0., 1., 0., 0., 0., 0., 0., 0.],\n",
      "       [0., 0., 0., 0., 0., 0., 0., 0., 1., 0., 0., 0., 0., 0., 0., 0.]]), [array([[ 0.+0.j, -0.-1.j,  0.+0.j,  0.+0.j,  0.+0.j,  0.+0.j,  0.+0.j,\n",
      "         0.+0.j,  0.+0.j,  0.+0.j,  0.+0.j,  0.+0.j,  0.+0.j,  0.+0.j,\n",
      "         0.+0.j,  0.+0.j],\n",
      "       [ 0.+1.j,  0.+0.j,  0.+0.j,  0.+0.j,  0.+0.j,  0.+0.j,  0.+0.j,\n",
      "         0.+0.j,  0.+0.j,  0.+0.j,  0.+0.j,  0.+0.j,  0.+0.j,  0.+0.j,\n",
      "         0.+0.j,  0.+0.j],\n",
      "       [ 0.+0.j,  0.+0.j,  0.+0.j, -0.-1.j,  0.+0.j,  0.+0.j,  0.+0.j,\n",
      "         0.+0.j,  0.+0.j,  0.+0.j,  0.+0.j,  0.+0.j,  0.+0.j,  0.+0.j,\n",
      "         0.+0.j,  0.+0.j],\n",
      "       [ 0.+0.j,  0.+0.j,  0.+1.j,  0.+0.j,  0.+0.j,  0.+0.j,  0.+0.j,\n",
      "         0.+0.j,  0.+0.j,  0.+0.j,  0.+0.j,  0.+0.j,  0.+0.j,  0.+0.j,\n",
      "         0.+0.j,  0.+0.j],\n",
      "       [ 0.+0.j,  0.+0.j,  0.+0.j,  0.+0.j,  0.+0.j, -0.-1.j,  0.+0.j,\n",
      "         0.+0.j,  0.+0.j,  0.+0.j,  0.+0.j,  0.+0.j,  0.+0.j,  0.+0.j,\n",
      "         0.+0.j,  0.+0.j],\n",
      "       [ 0.+0.j,  0.+0.j,  0.+0.j,  0.+0.j,  0.+1.j,  0.+0.j,  0.+0.j,\n",
      "         0.+0.j,  0.+0.j,  0.+0.j,  0.+0.j,  0.+0.j,  0.+0.j,  0.+0.j,\n",
      "         0.+0.j,  0.+0.j],\n",
      "       [ 0.+0.j,  0.+0.j,  0.+0.j,  0.+0.j,  0.+0.j,  0.+0.j,  0.+0.j,\n",
      "        -0.-1.j,  0.+0.j,  0.+0.j,  0.+0.j,  0.+0.j,  0.+0.j,  0.+0.j,\n",
      "         0.+0.j,  0.+0.j],\n",
      "       [ 0.+0.j,  0.+0.j,  0.+0.j,  0.+0.j,  0.+0.j,  0.+0.j,  0.+1.j,\n",
      "         0.+0.j,  0.+0.j,  0.+0.j,  0.+0.j,  0.+0.j,  0.+0.j,  0.+0.j,\n",
      "         0.+0.j,  0.+0.j],\n",
      "       [ 0.+0.j,  0.+0.j,  0.+0.j,  0.+0.j,  0.+0.j,  0.+0.j,  0.+0.j,\n",
      "         0.+0.j,  0.+0.j, -0.-1.j,  0.+0.j,  0.+0.j,  0.+0.j,  0.+0.j,\n",
      "         0.+0.j,  0.+0.j],\n",
      "       [ 0.+0.j,  0.+0.j,  0.+0.j,  0.+0.j,  0.+0.j,  0.+0.j,  0.+0.j,\n",
      "         0.+0.j,  0.+1.j,  0.+0.j,  0.+0.j,  0.+0.j,  0.+0.j,  0.+0.j,\n",
      "         0.+0.j,  0.+0.j],\n",
      "       [ 0.+0.j,  0.+0.j,  0.+0.j,  0.+0.j,  0.+0.j,  0.+0.j,  0.+0.j,\n",
      "         0.+0.j,  0.+0.j,  0.+0.j,  0.+0.j, -0.-1.j,  0.+0.j,  0.+0.j,\n",
      "         0.+0.j,  0.+0.j],\n",
      "       [ 0.+0.j,  0.+0.j,  0.+0.j,  0.+0.j,  0.+0.j,  0.+0.j,  0.+0.j,\n",
      "         0.+0.j,  0.+0.j,  0.+0.j,  0.+1.j,  0.+0.j,  0.+0.j,  0.+0.j,\n",
      "         0.+0.j,  0.+0.j],\n",
      "       [ 0.+0.j,  0.+0.j,  0.+0.j,  0.+0.j,  0.+0.j,  0.+0.j,  0.+0.j,\n",
      "         0.+0.j,  0.+0.j,  0.+0.j,  0.+0.j,  0.+0.j,  0.+0.j, -0.-1.j,\n",
      "         0.+0.j,  0.+0.j],\n",
      "       [ 0.+0.j,  0.+0.j,  0.+0.j,  0.+0.j,  0.+0.j,  0.+0.j,  0.+0.j,\n",
      "         0.+0.j,  0.+0.j,  0.+0.j,  0.+0.j,  0.+0.j,  0.+1.j,  0.+0.j,\n",
      "         0.+0.j,  0.+0.j],\n",
      "       [ 0.+0.j,  0.+0.j,  0.+0.j,  0.+0.j,  0.+0.j,  0.+0.j,  0.+0.j,\n",
      "         0.+0.j,  0.+0.j,  0.+0.j,  0.+0.j,  0.+0.j,  0.+0.j,  0.+0.j,\n",
      "         0.+0.j, -0.-1.j],\n",
      "       [ 0.+0.j,  0.+0.j,  0.+0.j,  0.+0.j,  0.+0.j,  0.+0.j,  0.+0.j,\n",
      "         0.+0.j,  0.+0.j,  0.+0.j,  0.+0.j,  0.+0.j,  0.+0.j,  0.+0.j,\n",
      "         0.+1.j,  0.+0.j]]), array([[ 0.+0.j, -0.-1.j,  0.+0.j,  0.+0.j,  0.+0.j,  0.+0.j,  0.+0.j,\n",
      "         0.+0.j],\n",
      "       [ 0.+1.j,  0.+0.j,  0.+0.j,  0.+0.j,  0.+0.j,  0.+0.j,  0.+0.j,\n",
      "         0.+0.j],\n",
      "       [ 0.+0.j,  0.+0.j,  0.+0.j, -0.-1.j,  0.+0.j,  0.+0.j,  0.+0.j,\n",
      "         0.+0.j],\n",
      "       [ 0.+0.j,  0.+0.j,  0.+1.j,  0.+0.j,  0.+0.j,  0.+0.j,  0.+0.j,\n",
      "         0.+0.j],\n",
      "       [ 0.+0.j,  0.+0.j,  0.+0.j,  0.+0.j,  0.+0.j, -0.-1.j,  0.+0.j,\n",
      "         0.+0.j],\n",
      "       [ 0.+0.j,  0.+0.j,  0.+0.j,  0.+0.j,  0.+1.j,  0.+0.j,  0.+0.j,\n",
      "         0.+0.j],\n",
      "       [ 0.+0.j,  0.+0.j,  0.+0.j,  0.+0.j,  0.+0.j,  0.+0.j,  0.+0.j,\n",
      "        -0.-1.j],\n",
      "       [ 0.+0.j,  0.+0.j,  0.+0.j,  0.+0.j,  0.+0.j,  0.+0.j,  0.+1.j,\n",
      "         0.+0.j]]), array([[ 0.+0.j, -0.-1.j,  0.+0.j,  0.+0.j],\n",
      "       [ 0.+1.j,  0.+0.j,  0.+0.j,  0.+0.j],\n",
      "       [ 0.+0.j,  0.+0.j,  0.+0.j, -0.-1.j],\n",
      "       [ 0.+0.j,  0.+0.j,  0.+1.j,  0.+0.j]]), array([[ 0.+0.j, -0.-1.j],\n",
      "       [ 0.+1.j,  0.+0.j]])], array([[ 1.,  0.,  0.,  0.,  0.,  0.,  0.,  0.,  0.,  0.,  0.,  0.,  0.,\n",
      "         0.,  0.,  0.],\n",
      "       [ 0., -1.,  0., -0.,  0., -0.,  0., -0.,  0., -0.,  0., -0.,  0.,\n",
      "        -0.,  0., -0.],\n",
      "       [ 0.,  0., -1., -0.,  0.,  0., -0., -0.,  0.,  0., -0., -0.,  0.,\n",
      "         0., -0., -0.],\n",
      "       [ 0., -0., -0.,  1.,  0., -0., -0.,  0.,  0., -0., -0.,  0.,  0.,\n",
      "        -0., -0.,  0.],\n",
      "       [ 0.,  0.,  0.,  0., -1., -0., -0., -0.,  0.,  0.,  0.,  0., -0.,\n",
      "        -0., -0., -0.],\n",
      "       [ 0., -0.,  0., -0., -0.,  1., -0.,  0.,  0., -0.,  0., -0., -0.,\n",
      "         0., -0.,  0.],\n",
      "       [ 0.,  0., -0., -0., -0., -0.,  1.,  0.,  0.,  0., -0., -0., -0.,\n",
      "        -0.,  0.,  0.],\n",
      "       [ 0., -0., -0.,  0., -0.,  0.,  0., -1.,  0., -0., -0.,  0., -0.,\n",
      "         0.,  0., -0.],\n",
      "       [ 0.,  0.,  0.,  0.,  0.,  0.,  0.,  0.,  1.,  0.,  0.,  0.,  0.,\n",
      "         0.,  0.,  0.],\n",
      "       [ 0., -0.,  0., -0.,  0., -0.,  0., -0.,  0., -1.,  0., -0.,  0.,\n",
      "        -0.,  0., -0.],\n",
      "       [ 0.,  0., -0., -0.,  0.,  0., -0., -0.,  0.,  0., -1., -0.,  0.,\n",
      "         0., -0., -0.],\n",
      "       [ 0., -0., -0.,  0.,  0., -0., -0.,  0.,  0., -0., -0.,  1.,  0.,\n",
      "        -0., -0.,  0.],\n",
      "       [ 0.,  0.,  0.,  0., -0., -0., -0., -0.,  0.,  0.,  0.,  0., -1.,\n",
      "        -0., -0., -0.],\n",
      "       [ 0., -0.,  0., -0., -0.,  0., -0.,  0.,  0., -0.,  0., -0., -0.,\n",
      "         1., -0.,  0.],\n",
      "       [ 0.,  0., -0., -0., -0., -0.,  0.,  0.,  0.,  0., -0., -0., -0.,\n",
      "        -0.,  1.,  0.],\n",
      "       [ 0., -0., -0.,  0., -0.,  0.,  0., -0.,  0., -0., -0.,  0., -0.,\n",
      "         0.,  0., -1.]]))\n"
     ]
    }
   ],
   "source": [
    "#This function is working well as we can verify using the following example.\n",
    "# Example usage\n",
    "N = 4\n",
    "jw = jordan_wigner(N)\n",
    "print(jw)"
   ]
  },
  {
   "cell_type": "markdown",
   "id": "2f588590",
   "metadata": {},
   "source": [
    "# Function to convert Second_Q_Hamiltonian into Q_Hamiltonian"
   ]
  },
  {
   "cell_type": "code",
   "execution_count": 55,
   "id": "217ed091",
   "metadata": {},
   "outputs": [],
   "source": [
    "def get_qubit_hamiltonian(N, epsilon, V):\n",
    "    \"\"\"\n",
    "    Convert the second quantized Hamiltonian to qubit Hamiltonian using the\n",
    "    Jordan-Wigner transformation.\n",
    "    \"\"\"\n",
    "    X,Y,Z = jordan_wigner(N)\n",
    "    H_one = SummedOp([epsilon[i]*Z[i] for i in range(N)])\n",
    "    H_two = SummedOp([V[i,j]*(np.eye(2**i) - Z[i])/2*(np.eye(2**j) - Z[j])/2*X[i]*X[j] for i in range(N) for j in range(i+1, N)])\n",
    "    H_qubit = H_one + H_two\n",
    "    return H_qubit"
   ]
  },
  {
   "cell_type": "code",
   "execution_count": 56,
   "id": "a2dacf51",
   "metadata": {},
   "outputs": [
    {
     "name": "stdout",
     "output_type": "stream",
     "text": [
      "[-1.  0.  0.  1.]\n",
      "[[0. 1. 0. 0.]\n",
      " [1. 0. 1. 0.]\n",
      " [0. 1. 0. 1.]\n",
      " [0. 0. 1. 0.]]\n"
     ]
    },
    {
     "ename": "TypeError",
     "evalue": "ListOp expecting objects of type OperatorBase, got [-1. -0. -0. -0. -0. -0. -0. -0. -0. -0. -0. -0. -0. -0. -0. -0.]",
     "output_type": "error",
     "traceback": [
      "\u001b[1;31m---------------------------------------------------------------------------\u001b[0m",
      "\u001b[1;31mTypeError\u001b[0m                                 Traceback (most recent call last)",
      "\u001b[1;32m~\\AppData\\Local\\Temp\\ipykernel_19444\\4029973580.py\u001b[0m in \u001b[0;36m<module>\u001b[1;34m\u001b[0m\n\u001b[0;32m      9\u001b[0m \u001b[0mprint\u001b[0m\u001b[1;33m(\u001b[0m\u001b[0mepsilon\u001b[0m\u001b[1;33m)\u001b[0m\u001b[1;33m\u001b[0m\u001b[1;33m\u001b[0m\u001b[0m\n\u001b[0;32m     10\u001b[0m \u001b[0mprint\u001b[0m\u001b[1;33m(\u001b[0m\u001b[0mV\u001b[0m\u001b[1;33m)\u001b[0m\u001b[1;33m\u001b[0m\u001b[1;33m\u001b[0m\u001b[0m\n\u001b[1;32m---> 11\u001b[1;33m \u001b[0mH_qubit\u001b[0m \u001b[1;33m=\u001b[0m \u001b[0mget_qubit_hamiltonian\u001b[0m\u001b[1;33m(\u001b[0m\u001b[0mN\u001b[0m\u001b[1;33m,\u001b[0m \u001b[0mepsilon\u001b[0m\u001b[1;33m,\u001b[0m \u001b[0mV\u001b[0m\u001b[1;33m)\u001b[0m\u001b[1;33m\u001b[0m\u001b[1;33m\u001b[0m\u001b[0m\n\u001b[0m\u001b[0;32m     12\u001b[0m \u001b[0mprint\u001b[0m\u001b[1;33m(\u001b[0m\u001b[0mH_qubit\u001b[0m\u001b[1;33m)\u001b[0m \u001b[1;31m# Print the qubit Hamiltonian as a sum of Pauli operators\u001b[0m\u001b[1;33m\u001b[0m\u001b[1;33m\u001b[0m\u001b[0m\n",
      "\u001b[1;32m~\\AppData\\Local\\Temp\\ipykernel_19444\\3137411053.py\u001b[0m in \u001b[0;36mget_qubit_hamiltonian\u001b[1;34m(N, epsilon, V)\u001b[0m\n\u001b[0;32m      5\u001b[0m     \"\"\"\n\u001b[0;32m      6\u001b[0m     \u001b[0mX\u001b[0m\u001b[1;33m,\u001b[0m\u001b[0mY\u001b[0m\u001b[1;33m,\u001b[0m\u001b[0mZ\u001b[0m \u001b[1;33m=\u001b[0m \u001b[0mjordan_wigner\u001b[0m\u001b[1;33m(\u001b[0m\u001b[0mN\u001b[0m\u001b[1;33m)\u001b[0m\u001b[1;33m\u001b[0m\u001b[1;33m\u001b[0m\u001b[0m\n\u001b[1;32m----> 7\u001b[1;33m     \u001b[0mH_one\u001b[0m \u001b[1;33m=\u001b[0m \u001b[0mSummedOp\u001b[0m\u001b[1;33m(\u001b[0m\u001b[1;33m[\u001b[0m\u001b[0mepsilon\u001b[0m\u001b[1;33m[\u001b[0m\u001b[0mi\u001b[0m\u001b[1;33m]\u001b[0m\u001b[1;33m*\u001b[0m\u001b[0mZ\u001b[0m\u001b[1;33m[\u001b[0m\u001b[0mi\u001b[0m\u001b[1;33m]\u001b[0m \u001b[1;32mfor\u001b[0m \u001b[0mi\u001b[0m \u001b[1;32min\u001b[0m \u001b[0mrange\u001b[0m\u001b[1;33m(\u001b[0m\u001b[0mN\u001b[0m\u001b[1;33m)\u001b[0m\u001b[1;33m]\u001b[0m\u001b[1;33m)\u001b[0m\u001b[1;33m\u001b[0m\u001b[1;33m\u001b[0m\u001b[0m\n\u001b[0m\u001b[0;32m      8\u001b[0m     \u001b[0mH_two\u001b[0m \u001b[1;33m=\u001b[0m \u001b[0mSummedOp\u001b[0m\u001b[1;33m(\u001b[0m\u001b[1;33m[\u001b[0m\u001b[0mV\u001b[0m\u001b[1;33m[\u001b[0m\u001b[0mi\u001b[0m\u001b[1;33m,\u001b[0m\u001b[0mj\u001b[0m\u001b[1;33m]\u001b[0m\u001b[1;33m*\u001b[0m\u001b[1;33m(\u001b[0m\u001b[0mnp\u001b[0m\u001b[1;33m.\u001b[0m\u001b[0meye\u001b[0m\u001b[1;33m(\u001b[0m\u001b[1;36m2\u001b[0m\u001b[1;33m**\u001b[0m\u001b[0mi\u001b[0m\u001b[1;33m)\u001b[0m \u001b[1;33m-\u001b[0m \u001b[0mZ\u001b[0m\u001b[1;33m[\u001b[0m\u001b[0mi\u001b[0m\u001b[1;33m]\u001b[0m\u001b[1;33m)\u001b[0m\u001b[1;33m/\u001b[0m\u001b[1;36m2\u001b[0m\u001b[1;33m*\u001b[0m\u001b[1;33m(\u001b[0m\u001b[0mnp\u001b[0m\u001b[1;33m.\u001b[0m\u001b[0meye\u001b[0m\u001b[1;33m(\u001b[0m\u001b[1;36m2\u001b[0m\u001b[1;33m**\u001b[0m\u001b[0mj\u001b[0m\u001b[1;33m)\u001b[0m \u001b[1;33m-\u001b[0m \u001b[0mZ\u001b[0m\u001b[1;33m[\u001b[0m\u001b[0mj\u001b[0m\u001b[1;33m]\u001b[0m\u001b[1;33m)\u001b[0m\u001b[1;33m/\u001b[0m\u001b[1;36m2\u001b[0m\u001b[1;33m*\u001b[0m\u001b[0mX\u001b[0m\u001b[1;33m[\u001b[0m\u001b[0mi\u001b[0m\u001b[1;33m]\u001b[0m\u001b[1;33m*\u001b[0m\u001b[0mX\u001b[0m\u001b[1;33m[\u001b[0m\u001b[0mj\u001b[0m\u001b[1;33m]\u001b[0m \u001b[1;32mfor\u001b[0m \u001b[0mi\u001b[0m \u001b[1;32min\u001b[0m \u001b[0mrange\u001b[0m\u001b[1;33m(\u001b[0m\u001b[0mN\u001b[0m\u001b[1;33m)\u001b[0m \u001b[1;32mfor\u001b[0m \u001b[0mj\u001b[0m \u001b[1;32min\u001b[0m \u001b[0mrange\u001b[0m\u001b[1;33m(\u001b[0m\u001b[0mi\u001b[0m\u001b[1;33m+\u001b[0m\u001b[1;36m1\u001b[0m\u001b[1;33m,\u001b[0m \u001b[0mN\u001b[0m\u001b[1;33m)\u001b[0m\u001b[1;33m]\u001b[0m\u001b[1;33m)\u001b[0m\u001b[1;33m\u001b[0m\u001b[1;33m\u001b[0m\u001b[0m\n\u001b[0;32m      9\u001b[0m     \u001b[0mH_qubit\u001b[0m \u001b[1;33m=\u001b[0m \u001b[0mH_one\u001b[0m \u001b[1;33m+\u001b[0m \u001b[0mH_two\u001b[0m\u001b[1;33m\u001b[0m\u001b[1;33m\u001b[0m\u001b[0m\n",
      "\u001b[1;32m~\\anaconda3\\lib\\site-packages\\qiskit\\opflow\\list_ops\\summed_op.py\u001b[0m in \u001b[0;36m__init__\u001b[1;34m(self, oplist, coeff, abelian)\u001b[0m\n\u001b[0;32m     43\u001b[0m             \u001b[0mabelian\u001b[0m\u001b[1;33m:\u001b[0m \u001b[0mIndicates\u001b[0m \u001b[0mwhether\u001b[0m \u001b[0mthe\u001b[0m \u001b[0mOperators\u001b[0m \u001b[1;32min\u001b[0m\u001b[0;31m \u001b[0m\u001b[0;31m`\u001b[0m\u001b[0;31m`\u001b[0m\u001b[0moplist\u001b[0m\u001b[0;31m`\u001b[0m\u001b[0;31m`\u001b[0m \u001b[0mare\u001b[0m \u001b[0mknown\u001b[0m \u001b[0mto\u001b[0m \u001b[0mmutually\u001b[0m \u001b[0mcommute\u001b[0m\u001b[1;33m.\u001b[0m\u001b[1;33m\u001b[0m\u001b[1;33m\u001b[0m\u001b[0m\n\u001b[0;32m     44\u001b[0m         \"\"\"\n\u001b[1;32m---> 45\u001b[1;33m         \u001b[0msuper\u001b[0m\u001b[1;33m(\u001b[0m\u001b[1;33m)\u001b[0m\u001b[1;33m.\u001b[0m\u001b[0m__init__\u001b[0m\u001b[1;33m(\u001b[0m\u001b[0moplist\u001b[0m\u001b[1;33m,\u001b[0m \u001b[0mcombo_fn\u001b[0m\u001b[1;33m=\u001b[0m\u001b[1;32mlambda\u001b[0m \u001b[0mx\u001b[0m\u001b[1;33m:\u001b[0m \u001b[0mnp\u001b[0m\u001b[1;33m.\u001b[0m\u001b[0msum\u001b[0m\u001b[1;33m(\u001b[0m\u001b[0mx\u001b[0m\u001b[1;33m,\u001b[0m \u001b[0maxis\u001b[0m\u001b[1;33m=\u001b[0m\u001b[1;36m0\u001b[0m\u001b[1;33m)\u001b[0m\u001b[1;33m,\u001b[0m \u001b[0mcoeff\u001b[0m\u001b[1;33m=\u001b[0m\u001b[0mcoeff\u001b[0m\u001b[1;33m,\u001b[0m \u001b[0mabelian\u001b[0m\u001b[1;33m=\u001b[0m\u001b[0mabelian\u001b[0m\u001b[1;33m)\u001b[0m\u001b[1;33m\u001b[0m\u001b[1;33m\u001b[0m\u001b[0m\n\u001b[0m\u001b[0;32m     46\u001b[0m \u001b[1;33m\u001b[0m\u001b[0m\n\u001b[0;32m     47\u001b[0m     \u001b[1;33m@\u001b[0m\u001b[0mproperty\u001b[0m\u001b[1;33m\u001b[0m\u001b[1;33m\u001b[0m\u001b[0m\n",
      "\u001b[1;32m~\\anaconda3\\lib\\site-packages\\qiskit\\opflow\\list_ops\\list_op.py\u001b[0m in \u001b[0;36m__init__\u001b[1;34m(self, oplist, combo_fn, coeff, abelian, grad_combo_fn)\u001b[0m\n\u001b[0;32m     75\u001b[0m         \"\"\"\n\u001b[0;32m     76\u001b[0m         \u001b[0msuper\u001b[0m\u001b[1;33m(\u001b[0m\u001b[1;33m)\u001b[0m\u001b[1;33m.\u001b[0m\u001b[0m__init__\u001b[0m\u001b[1;33m(\u001b[0m\u001b[1;33m)\u001b[0m\u001b[1;33m\u001b[0m\u001b[1;33m\u001b[0m\u001b[0m\n\u001b[1;32m---> 77\u001b[1;33m         \u001b[0mself\u001b[0m\u001b[1;33m.\u001b[0m\u001b[0m_oplist\u001b[0m \u001b[1;33m=\u001b[0m \u001b[0mself\u001b[0m\u001b[1;33m.\u001b[0m\u001b[0m_check_input_types\u001b[0m\u001b[1;33m(\u001b[0m\u001b[0moplist\u001b[0m\u001b[1;33m)\u001b[0m\u001b[1;33m\u001b[0m\u001b[1;33m\u001b[0m\u001b[0m\n\u001b[0m\u001b[0;32m     78\u001b[0m         \u001b[0mself\u001b[0m\u001b[1;33m.\u001b[0m\u001b[0m_combo_fn\u001b[0m \u001b[1;33m=\u001b[0m \u001b[0mcombo_fn\u001b[0m\u001b[1;33m\u001b[0m\u001b[1;33m\u001b[0m\u001b[0m\n\u001b[0;32m     79\u001b[0m         \u001b[0mself\u001b[0m\u001b[1;33m.\u001b[0m\u001b[0m_coeff\u001b[0m \u001b[1;33m=\u001b[0m \u001b[0mcoeff\u001b[0m\u001b[1;33m\u001b[0m\u001b[1;33m\u001b[0m\u001b[0m\n",
      "\u001b[1;32m~\\anaconda3\\lib\\site-packages\\qiskit\\opflow\\list_ops\\list_op.py\u001b[0m in \u001b[0;36m_check_input_types\u001b[1;34m(self, oplist)\u001b[0m\n\u001b[0;32m     86\u001b[0m         \u001b[1;32melse\u001b[0m\u001b[1;33m:\u001b[0m\u001b[1;33m\u001b[0m\u001b[1;33m\u001b[0m\u001b[0m\n\u001b[0;32m     87\u001b[0m             \u001b[0mbadval\u001b[0m \u001b[1;33m=\u001b[0m \u001b[0mnext\u001b[0m\u001b[1;33m(\u001b[0m\u001b[0mx\u001b[0m \u001b[1;32mfor\u001b[0m \u001b[0mx\u001b[0m \u001b[1;32min\u001b[0m \u001b[0moplist\u001b[0m \u001b[1;32mif\u001b[0m \u001b[1;32mnot\u001b[0m \u001b[0misinstance\u001b[0m\u001b[1;33m(\u001b[0m\u001b[0mx\u001b[0m\u001b[1;33m,\u001b[0m \u001b[0mOperatorBase\u001b[0m\u001b[1;33m)\u001b[0m\u001b[1;33m)\u001b[0m\u001b[1;33m\u001b[0m\u001b[1;33m\u001b[0m\u001b[0m\n\u001b[1;32m---> 88\u001b[1;33m             \u001b[1;32mraise\u001b[0m \u001b[0mTypeError\u001b[0m\u001b[1;33m(\u001b[0m\u001b[1;34mf\"ListOp expecting objects of type OperatorBase, got {badval}\"\u001b[0m\u001b[1;33m)\u001b[0m\u001b[1;33m\u001b[0m\u001b[1;33m\u001b[0m\u001b[0m\n\u001b[0m\u001b[0;32m     89\u001b[0m \u001b[1;33m\u001b[0m\u001b[0m\n\u001b[0;32m     90\u001b[0m     def _state(\n",
      "\u001b[1;31mTypeError\u001b[0m: ListOp expecting objects of type OperatorBase, got [-1. -0. -0. -0. -0. -0. -0. -0. -0. -0. -0. -0. -0. -0. -0. -0.]"
     ]
    }
   ],
   "source": [
    "#This funtion is not working.Probably the argumests it takes do not satisfy the type of objects ListOp demands.\n",
    "N = 4\n",
    "epsilon = np.array([-1.0, 0.0, 0.0, 1.0])\n",
    "V = np.array([[0.0, 1.0, 0.0, 0.0],\n",
    "              [1.0, 0.0, 1.0, 0.0],\n",
    "              [0.0, 1.0, 0.0, 1.0],\n",
    "              [0.0, 0.0, 1.0, 0.0]])\n",
    "\n",
    "print(epsilon)\n",
    "print(V)\n",
    "H_qubit = get_qubit_hamiltonian(N, epsilon, V)\n",
    "print(H_qubit) # Print the qubit Hamiltonian as a sum of Pauli operators"
   ]
  },
  {
   "cell_type": "code",
   "execution_count": 90,
   "id": "c96e8dee",
   "metadata": {},
   "outputs": [
    {
     "name": "stdout",
     "output_type": "stream",
     "text": [
      "x_j: 4\n",
      "y_j: 16\n",
      "x_j: 16\n",
      "y_j: 16\n",
      "x_j: 64\n",
      "y_j: 16\n",
      "x_j: 16\n",
      "y_j: 16\n",
      "x_j: 64\n",
      "y_j: 16\n",
      "x_j: 64\n",
      "y_j: 16\n"
     ]
    }
   ],
   "source": [
    "V = np.array([[0.0, 1.0, 0.0, 0.0],\n",
    "              [1.0, 0.0, 1.0, 0.0],\n",
    "              [0.0, 1.0, 0.0, 1.0],\n",
    "              [0.0, 0.0, 1.0, 0.0]])\n",
    "epsilon = np.array([-1.0, 0.0, 0.0, 1.0])\n",
    "X,Y,Z = jordan_wigner(N)\n",
    "sumop = np.zeros((1, 16))\n",
    "for i in range(N):\n",
    "    H_one = np.array(epsilon[i]*Z[i])\n",
    "    sumop = sumop + H_one\n",
    "#     H_two = SummedOp([V[i,j]*(np.eye(2**i) - Z[i])/2*(np.eye(2**j) - Z[j])/2*X[i]*X[j] for i in range(N) for j in range(i+1, N)])\n",
    "#     H_qubit = H_one + H_two\n",
    "#     return H_qubit\n",
    "\n",
    "for i in range(N):\n",
    "    for j in range(i+1, N):\n",
    "#         x = V[i,j]*(np.eye(2**i) - Z[i])/2*(np.eye(2**j) - Z[j])/2*X[i]*X[j]\n",
    "        x = (np.eye(2**i))\n",
    "        y = np.array(Z[i])\n",
    "        x = x.ravel().tolist()\n",
    "        \n",
    "        for k in range(len(x)+1, 17):\n",
    "            x.append(0)\n",
    "        \n",
    "        x_j = (np.eye(2**j))\n",
    "        y_j = np.array(Z[j])\n",
    "        x_j = x_j.ravel().tolist()\n",
    "        \n",
    "#         for k in range(len(x_j)+1, 17):\n",
    "#             x_j.append(0)\n",
    "\n",
    "            \n",
    "#         print(\"i-> \", V[i,j]*(x - y))\n",
    "        print(\"x_j:\",len(x_j))\n",
    "        print(\"y_j:\",len(y_j))\n",
    "\n",
    "# print(sumop)"
   ]
  },
  {
   "cell_type": "code",
   "execution_count": 91,
   "id": "686c1776",
   "metadata": {},
   "outputs": [
    {
     "ename": "ValueError",
     "evalue": "operands could not be broadcast together with shapes (2,2) (16,) ",
     "output_type": "error",
     "traceback": [
      "\u001b[1;31m---------------------------------------------------------------------------\u001b[0m",
      "\u001b[1;31mValueError\u001b[0m                                Traceback (most recent call last)",
      "\u001b[1;32m~\\AppData\\Local\\Temp\\ipykernel_19444\\4106862951.py\u001b[0m in \u001b[0;36m<module>\u001b[1;34m\u001b[0m\n\u001b[0;32m      9\u001b[0m     \u001b[1;32mfor\u001b[0m \u001b[0mj\u001b[0m \u001b[1;32min\u001b[0m \u001b[0mrange\u001b[0m\u001b[1;33m(\u001b[0m\u001b[0mi\u001b[0m\u001b[1;33m+\u001b[0m\u001b[1;36m1\u001b[0m\u001b[1;33m,\u001b[0m \u001b[0mN\u001b[0m\u001b[1;33m)\u001b[0m\u001b[1;33m:\u001b[0m\u001b[1;33m\u001b[0m\u001b[1;33m\u001b[0m\u001b[0m\n\u001b[0;32m     10\u001b[0m         \u001b[0mop_i\u001b[0m \u001b[1;33m=\u001b[0m \u001b[0mnp\u001b[0m\u001b[1;33m.\u001b[0m\u001b[0meye\u001b[0m\u001b[1;33m(\u001b[0m\u001b[1;36m2\u001b[0m\u001b[1;33m**\u001b[0m\u001b[0mi\u001b[0m\u001b[1;33m)\u001b[0m \u001b[1;33m-\u001b[0m \u001b[0mZ\u001b[0m\u001b[1;33m[\u001b[0m\u001b[0mi\u001b[0m\u001b[1;33m]\u001b[0m\u001b[1;33m\u001b[0m\u001b[1;33m\u001b[0m\u001b[0m\n\u001b[1;32m---> 11\u001b[1;33m         \u001b[0mop_j\u001b[0m \u001b[1;33m=\u001b[0m \u001b[0mnp\u001b[0m\u001b[1;33m.\u001b[0m\u001b[0meye\u001b[0m\u001b[1;33m(\u001b[0m\u001b[1;36m2\u001b[0m\u001b[1;33m**\u001b[0m\u001b[0mj\u001b[0m\u001b[1;33m)\u001b[0m \u001b[1;33m-\u001b[0m \u001b[0mZ\u001b[0m\u001b[1;33m[\u001b[0m\u001b[0mj\u001b[0m\u001b[1;33m]\u001b[0m\u001b[1;33m\u001b[0m\u001b[1;33m\u001b[0m\u001b[0m\n\u001b[0m\u001b[0;32m     12\u001b[0m         \u001b[0mop_ij\u001b[0m \u001b[1;33m=\u001b[0m \u001b[0mX\u001b[0m\u001b[1;33m[\u001b[0m\u001b[0mi\u001b[0m\u001b[1;33m]\u001b[0m \u001b[1;33m*\u001b[0m \u001b[0mX\u001b[0m\u001b[1;33m[\u001b[0m\u001b[0mj\u001b[0m\u001b[1;33m]\u001b[0m\u001b[1;33m\u001b[0m\u001b[1;33m\u001b[0m\u001b[0m\n\u001b[0;32m     13\u001b[0m         \u001b[0mterm\u001b[0m \u001b[1;33m=\u001b[0m \u001b[0mV\u001b[0m\u001b[1;33m[\u001b[0m\u001b[0mi\u001b[0m\u001b[1;33m,\u001b[0m \u001b[0mj\u001b[0m\u001b[1;33m]\u001b[0m \u001b[1;33m*\u001b[0m \u001b[1;33m(\u001b[0m\u001b[0mop_i\u001b[0m \u001b[1;33m/\u001b[0m \u001b[1;36m2\u001b[0m\u001b[1;33m)\u001b[0m \u001b[1;33m*\u001b[0m \u001b[1;33m(\u001b[0m\u001b[0mop_j\u001b[0m \u001b[1;33m/\u001b[0m \u001b[1;36m2\u001b[0m\u001b[1;33m)\u001b[0m \u001b[1;33m*\u001b[0m \u001b[0mop_ij\u001b[0m\u001b[1;33m\u001b[0m\u001b[1;33m\u001b[0m\u001b[0m\n",
      "\u001b[1;31mValueError\u001b[0m: operands could not be broadcast together with shapes (2,2) (16,) "
     ]
    }
   ],
   "source": [
    "V = np.array([[0.0, 1.0, 0.0, 0.0],\n",
    "              [1.0, 0.0, 1.0, 0.0],\n",
    "              [0.0, 1.0, 0.0, 1.0],\n",
    "              [0.0, 0.0, 1.0, 0.0]])\n",
    "epsilon = np.array([-1.0, 0.0, 0.0, 1.0])\n",
    "X,Y,Z = jordan_wigner(N)\n",
    "result = []\n",
    "for i in range(N):\n",
    "    for j in range(i+1, N):\n",
    "        op_i = np.eye(2**i) - Z[i]\n",
    "        op_j = np.eye(2**j) - Z[j]\n",
    "        op_ij = X[i] * X[j]\n",
    "        term = V[i, j] * (op_i / 2) * (op_j / 2) * op_ij\n",
    "        result.append(term)"
   ]
  },
  {
   "cell_type": "code",
   "execution_count": null,
   "id": "2cdfb8dc",
   "metadata": {},
   "outputs": [],
   "source": []
  }
 ],
 "metadata": {
  "kernelspec": {
   "display_name": "Python 3 (ipykernel)",
   "language": "python",
   "name": "python3"
  },
  "language_info": {
   "codemirror_mode": {
    "name": "ipython",
    "version": 3
   },
   "file_extension": ".py",
   "mimetype": "text/x-python",
   "name": "python",
   "nbconvert_exporter": "python",
   "pygments_lexer": "ipython3",
   "version": "3.9.13"
  }
 },
 "nbformat": 4,
 "nbformat_minor": 5
}
