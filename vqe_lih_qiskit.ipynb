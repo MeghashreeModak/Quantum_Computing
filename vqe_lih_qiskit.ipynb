{
 "cells": [
  {
   "cell_type": "markdown",
   "id": "271eacea",
   "metadata": {},
   "source": [
    "# VQE Implementation in Qiskit for LiH "
   ]
  },
  {
   "cell_type": "code",
   "execution_count": 6,
   "id": "8c6c6734",
   "metadata": {},
   "outputs": [],
   "source": [
    "import qiskit_nature\n",
    "from qiskit.algorithms.minimum_eigensolvers import NumPyMinimumEigensolver, VQE\n",
    "from qiskit_nature.second_q.transformers import FreezeCoreTransformer\n",
    "from qiskit_nature.second_q.formats.molecule_info import MoleculeInfo\n",
    "from qiskit_nature.second_q.mappers import ParityMapper\n",
    "from qiskit_nature.second_q.circuit.library import UCCSD, HartreeFock\n",
    "\n",
    "qiskit_nature.settings.use_pauli_sum_op = False\n",
    "from qiskit_nature.second_q.drivers import PySCFDriver\n",
    "import matplotlib.pyplot as plt\n",
    "import numpy as np\n",
    "from qiskit.circuit.library import EfficientSU2\n",
    "from qiskit.algorithms.optimizers import SPSA, SLSQP, COBYLA"
   ]
  },
  {
   "cell_type": "code",
   "execution_count": 7,
   "id": "80f269b0",
   "metadata": {},
   "outputs": [],
   "source": [
    "def get_qubit_op(dist):\n",
    "    # Define Molecule\n",
    "    molecule = MoleculeInfo(\n",
    "        # Coordinates in Angstrom\n",
    "        symbols=[\"Li\", \"H\"],\n",
    "        coords=([0.0, 0.0, 0.0], [dist, 0.0, 0.0]),\n",
    "        multiplicity=1,  # = 2*spin + 1\n",
    "        charge=0,\n",
    "    )\n",
    "\n",
    "    driver = PySCFDriver.from_molecule(molecule)\n",
    "\n",
    "    # Get properties\n",
    "    properties = driver.run()\n",
    "\n",
    "    # Now you can get the reduced electronic structure problem\n",
    "    problem = FreezeCoreTransformer(\n",
    "        freeze_core=True, remove_orbitals=[-3, -2]\n",
    "    ).transform(properties)\n",
    "\n",
    "    num_particles = problem.num_particles\n",
    "    num_spatial_orbitals = problem.num_spatial_orbitals\n",
    "\n",
    "    mapper = ParityMapper(num_particles=num_particles)\n",
    "    qubit_op = mapper.map(problem.second_q_ops()[0])\n",
    "    return qubit_op, num_particles, num_spatial_orbitals, problem, mapper"
   ]
  },
  {
   "cell_type": "code",
   "execution_count": 8,
   "id": "b8b1e385",
   "metadata": {},
   "outputs": [
    {
     "name": "stdout",
     "output_type": "stream",
     "text": [
      "Interatomic Distance: 0.5 VQE Result: -7.04791 Exact Energy: -7.04791\n",
      "Interatomic Distance: 0.7 VQE Result: -7.50400 Exact Energy: -7.50400\n",
      "Interatomic Distance: 0.9 VQE Result: -7.72283 Exact Energy: -7.72283\n",
      "Interatomic Distance: 1.1 VQE Result: -7.82520 Exact Energy: -7.82520\n",
      "Interatomic Distance: 1.3 VQE Result: -7.86890 Exact Energy: -7.86890\n",
      "Interatomic Distance: 1.5 VQE Result: -7.88214 Exact Energy: -7.88214\n",
      "Interatomic Distance: 1.7 VQE Result: -7.87920 Exact Energy: -7.87920\n",
      "Interatomic Distance: 1.9 VQE Result: -7.86799 Exact Energy: -7.86799\n",
      "Interatomic Distance: 2.1 VQE Result: -7.85320 Exact Energy: -7.85320\n",
      "Interatomic Distance: 2.3 VQE Result: -7.83772 Exact Energy: -7.83772\n",
      "Interatomic Distance: 2.5 VQE Result: -7.82343 Exact Energy: -7.82343\n",
      "Interatomic Distance: 2.7 VQE Result: -7.81142 Exact Energy: -7.81142\n",
      "Interatomic Distance: 2.9 VQE Result: -7.80215 Exact Energy: -7.80215\n",
      "Interatomic Distance: 3.1 VQE Result: -7.79545 Exact Energy: -7.79545\n",
      "Interatomic Distance: 3.3 VQE Result: -7.79085 Exact Energy: -7.79085\n",
      "Interatomic Distance: 3.5 VQE Result: -7.78776 Exact Energy: -7.78776\n",
      "Interatomic Distance: 3.7 VQE Result: -7.78573 Exact Energy: -7.78573\n",
      "Interatomic Distance: 3.9 VQE Result: -7.78441 Exact Energy: -7.78441\n",
      "All energies have been calculated\n"
     ]
    }
   ],
   "source": [
    "from qiskit_aer.primitives import Estimator\n",
    "\n",
    "\n",
    "def exact_solver(qubit_op, problem):\n",
    "    sol = NumPyMinimumEigensolver().compute_minimum_eigenvalue(qubit_op)\n",
    "    result = problem.interpret(sol)\n",
    "    return result\n",
    "\n",
    "\n",
    "distances = np.arange(0.5, 4.0, 0.2)\n",
    "exact_energies = []\n",
    "vqe_energies = []\n",
    "optimizer = SLSQP(maxiter=10)\n",
    "noiseless_estimator = Estimator(approximation=True)\n",
    "for dist in distances:\n",
    "    (qubit_op, num_particles, num_spatial_orbitals, problem, mapper) = get_qubit_op(\n",
    "        dist\n",
    "    )\n",
    "\n",
    "    result = exact_solver(qubit_op, problem)\n",
    "    exact_energies.append(result.total_energies[0].real)\n",
    "    init_state = HartreeFock(num_spatial_orbitals, num_particles, mapper)\n",
    "    var_form = UCCSD(\n",
    "        num_spatial_orbitals, num_particles, mapper, initial_state=init_state\n",
    "    )\n",
    "    vqe = VQE(\n",
    "        noiseless_estimator,\n",
    "        var_form,\n",
    "        optimizer,\n",
    "        initial_point=[0] * var_form.num_parameters,\n",
    "    )\n",
    "    vqe_calc = vqe.compute_minimum_eigenvalue(qubit_op)\n",
    "    vqe_result = problem.interpret(vqe_calc).total_energies[0].real\n",
    "    vqe_energies.append(vqe_result)\n",
    "    print(\n",
    "        f\"Interatomic Distance: {np.round(dist, 2)}\",\n",
    "        f\"VQE Result: {vqe_result:.5f}\",\n",
    "        f\"Exact Energy: {exact_energies[-1]:.5f}\",\n",
    "    )\n",
    "\n",
    "print(\"All energies have been calculated\")"
   ]
  },
  {
   "cell_type": "code",
   "execution_count": 9,
   "id": "9f19a871",
   "metadata": {},
   "outputs": [
    {
     "data": {
      "image/png": "[encoded data removed]",
      "text/plain": [
       "<Figure size 640x480 with 1 Axes>"
      ]
     },
     "metadata": {},
     "output_type": "display_data"
    }
   ],
   "source": [
    "plt.plot(distances, exact_energies, label=\"Exact Energy\")\n",
    "plt.plot(distances, vqe_energies, label=\"VQE Energy\")\n",
    "plt.xlabel(\"Atomic distance (Angstrom)\")\n",
    "plt.ylabel(\"Energy\")\n",
    "plt.legend()\n",
    "plt.show()"
   ]
  },
  {
   "cell_type": "markdown",
   "id": "2737e132",
   "metadata": {},
   "source": [
    "# Running VQE on a Noisy Simulator for H2"
   ]
  },
  {
   "cell_type": "code",
   "execution_count": 11,
   "id": "f07f9880",
   "metadata": {},
   "outputs": [],
   "source": [
    "molecule = MoleculeInfo(\n",
    "    # Coordinates in Angstrom\n",
    "    symbols=[\"H\", \"H\"],\n",
    "    coords=([0.0, 0.0, -0.3625], [0.0, 0.0, 0.3625]),\n",
    "    multiplicity=1,\n",
    "    charge=0,\n",
    ")\n",
    "\n",
    "driver = PySCFDriver.from_molecule(molecule)\n",
    "problem = driver.run()\n",
    "\n",
    "second_q_ops = problem.second_q_ops()  # Get 2nd Quant OP\n",
    "num_spatial_orbitals = problem.num_spatial_orbitals\n",
    "num_particles = problem.num_particles\n",
    "\n",
    "mapper = ParityMapper(num_particles=num_particles)  # Set Mapper\n",
    "\n",
    "hamiltonian = second_q_ops[0]  # Set Hamiltonian\n",
    "\n",
    "# Do two qubit reduction\n",
    "qubit_op = mapper.map(hamiltonian)"
   ]
  },
  {
   "cell_type": "code",
   "execution_count": 13,
   "id": "08ff77e8",
   "metadata": {},
   "outputs": [],
   "source": [
    "from qiskit_aer.noise import NoiseModel\n",
    "from qiskit.providers.fake_provider import FakeVigo\n",
    "\n",
    "# fake providers contain data from real IBM Quantum devices stored\n",
    "# in Qiskit Terra, and are useful for extracting realistic noise models.\n",
    "\n",
    "device = FakeVigo()\n",
    "coupling_map = device.configuration().coupling_map\n",
    "noise_model = NoiseModel.from_backend(device)\n",
    "noisy_estimator = Estimator(\n",
    "    backend_options={\"coupling_map\": coupling_map, \"noise_model\": noise_model}\n",
    ")"
   ]
  },
  {
   "cell_type": "code",
   "execution_count": 14,
   "id": "5bf838ba",
   "metadata": {},
   "outputs": [
    {
     "name": "stdout",
     "output_type": "stream",
     "text": [
      "Exact Result: [-1.13722138]\n",
      "VQE Result: [-1.04256142]\n"
     ]
    }
   ],
   "source": [
    "result = exact_solver(qubit_op, problem)\n",
    "exact_energies.append(result.total_energies)\n",
    "\n",
    "print(\"Exact Result:\", result.total_energies)\n",
    "optimizer = SPSA(maxiter=100)\n",
    "var_form = EfficientSU2(qubit_op.num_qubits, entanglement=\"linear\")\n",
    "vqe = VQE(noisy_estimator, var_form, optimizer)\n",
    "vqe_calc = vqe.compute_minimum_eigenvalue(qubit_op)\n",
    "vqe_result = problem.interpret(vqe_calc).total_energies\n",
    "print(\"VQE Result:\", vqe_result)"
   ]
  },
  {
   "cell_type": "code",
   "execution_count": null,
   "id": "d7e3b933",
   "metadata": {},
   "outputs": [],
   "source": []
  }
 ],
 "metadata": {
  "kernelspec": {
   "display_name": "Python 3 (ipykernel)",
   "language": "python",
   "name": "python3"
  },
  "language_info": {
   "codemirror_mode": {
    "name": "ipython",
    "version": 3
   },
   "file_extension": ".py",
   "mimetype": "text/x-python",
   "name": "python",
   "nbconvert_exporter": "python",
   "pygments_lexer": "ipython3",
   "version": "3.10.6"
  }
 },
 "nbformat": 4,
 "nbformat_minor": 5
}
