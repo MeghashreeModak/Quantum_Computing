{
 "cells": [
  {
   "cell_type": "code",
   "execution_count": 8,
   "metadata": {},
   "outputs": [],
   "source": [
    "import numpy as np\n",
    "from random import random\n",
    "from qiskit import *\n",
    "\n"
   ]
  },
  {
   "cell_type": "code",
   "execution_count": 14,
   "metadata": {},
   "outputs": [],
   "source": [
    "# This code is part of Qiskit.\n",
    "#\n",
    "# (C) Copyright IBM 2018, 2021.\n",
    "#\n",
    "# This code is licensed under the Apache License, Version 2.0. You may\n",
    "# obtain a copy of this license in the LICENSE.txt file in the root directory\n",
    "# of this source tree or at http://www.apache.org/licenses/LICENSE-2.0.\n",
    "#\n",
    "# Any modifications or derivative works of this code must retain this\n",
    "# copyright notice, and modified files need to carry a notice indicating\n",
    "# that they have been altered from the originals.\n",
    "\n",
    "\"\"\" controlled circuit \"\"\"\n",
    "\n",
    "from qiskit.circuit import QuantumCircuit\n",
    "from qiskit.converters import circuit_to_dag, dag_to_circuit\n",
    "from qiskit.transpiler.passes import Unroller\n",
    "\n",
    "\n",
    "# pylint: disable=invalid-name\n",
    "def apply_cp(circuit, lam, c, t, use_basis_gates=True):\n",
    "    \"\"\" apply cp \"\"\"\n",
    "    if use_basis_gates:\n",
    "        circuit.p(lam / 2, c)\n",
    "        circuit.cx(c, t)\n",
    "        circuit.p(-lam / 2, t)\n",
    "        circuit.cx(c, t)\n",
    "        circuit.p(lam / 2, t)\n",
    "    else:\n",
    "        circuit.cp(lam, c, t)\n",
    "\n",
    "\n",
    "def apply_cu(circuit, theta, phi, lam, c, t, use_basis_gates=True):\n",
    "    \"\"\" apply cu \"\"\"\n",
    "    if use_basis_gates:\n",
    "        circuit.p((lam + phi) / 2, c)\n",
    "        circuit.p((lam - phi) / 2, t)\n",
    "        circuit.cx(c, t)\n",
    "        circuit.u(-theta / 2, 0, -(phi + lam) / 2, t)\n",
    "        circuit.cx(c, t)\n",
    "        circuit.u(theta / 2, phi, 0, t)\n",
    "    else:\n",
    "        circuit.cu(theta, phi, lam, 0, c, t)\n",
    "\n",
    "\n",
    "# pylint: disable=invalid-name\n",
    "def apply_ccx(circuit, a, b, c, use_basis_gates=True):\n",
    "    \"\"\" apply ccx \"\"\"\n",
    "    if use_basis_gates:\n",
    "        circuit.h(c)\n",
    "        circuit.cx(b, c)\n",
    "        circuit.tdg(c)\n",
    "        circuit.cx(a, c)\n",
    "        circuit.t(c)\n",
    "        circuit.cx(b, c)\n",
    "        circuit.tdg(c)\n",
    "        circuit.cx(a, c)\n",
    "        circuit.t(b)\n",
    "        circuit.t(c)\n",
    "        circuit.h(c)\n",
    "        circuit.cx(a, b)\n",
    "        circuit.t(a)\n",
    "        circuit.tdg(b)\n",
    "        circuit.cx(a, b)\n",
    "    else:\n",
    "        circuit.ccx(a, b, c)\n",
    "\n",
    "\n",
    "def get_controlled_circuit(circuit, ctl_qubit, tgt_circuit=None, use_basis_gates=True):\n",
    "    \"\"\"\n",
    "    Construct the controlled version of a given circuit.\n",
    "\n",
    "    Args:\n",
    "        circuit (QuantumCircuit) : the base circuit\n",
    "        ctl_qubit (Qubit) : the control qubit to use\n",
    "        tgt_circuit (QuantumCircuit) : the target controlled circuit to be modified in-place\n",
    "        use_basis_gates (bool) : boolean flag to indicate whether or not\n",
    "                                only basis gates should be used\n",
    "\n",
    "    Return:\n",
    "        QuantumCircuit: a QuantumCircuit object with the base circuit being controlled by ctl_qubit\n",
    "    Raises:\n",
    "        RuntimeError: unexpected operation\n",
    "    \"\"\"\n",
    "    if tgt_circuit is not None:\n",
    "        qc = tgt_circuit\n",
    "    else:\n",
    "        qc = QuantumCircuit()\n",
    "\n",
    "    # get all the qubits and clbits\n",
    "    qregs = circuit.qregs\n",
    "    qubits = []\n",
    "    for qreg in qregs:\n",
    "        if not qc.has_register(qreg):\n",
    "            qc.add_register(qreg)\n",
    "        qubits.extend(qreg)\n",
    "    cregs = circuit.cregs\n",
    "    clbits = []\n",
    "    for creg in cregs:\n",
    "        if not qc.has_register(cregclbits.extend(creg)):\n",
    "            qc.add_register(creg)\n",
    "\n",
    "    # get all operations\n",
    "    unroller = Unroller(basis=['u', 'p', 'cx'])\n",
    "    ops = dag_to_circuit(unroller.run(circuit_to_dag(circuit))).data\n",
    "\n",
    "    # process all basis gates to add control\n",
    "    if not qc.has_register(ctl_qubit._register):\n",
    "        qc.add_register(ctl_qubit._register)\n",
    "    for op in ops:\n",
    "        if op[0].name == 'id':\n",
    "            apply_cu(qc, 0, 0, 0, ctl_qubit, op[1][0], use_basis_gates=use_basis_gates)\n",
    "        elif op[0].name == 'p':\n",
    "            apply_cp(qc, *op[0].params, ctl_qubit, op[1][0], use_basis_gates=use_basis_gates)\n",
    "        elif op[0].name == 'u':\n",
    "            apply_cu(qc, *op[0].params, ctl_qubit, op[1][0], use_basis_gates=use_basis_gates)\n",
    "        elif op[0].name == 'cx':\n",
    "            apply_ccx(qc, ctl_qubit, op[1][0], op[1][1], use_basis_gates=use_basis_gates)\n",
    "        elif op[0].name == 'measure':\n",
    "            qc.measure(op[1], op[2])\n",
    "        elif op[0].name == 'barrier':\n",
    "            qc.barrier(op[1])\n",
    "        else:\n",
    "            raise RuntimeError('Unexpected operation {}.'.format(op[0].name))\n",
    "\n",
    "    return qc"
   ]
  },
  {
   "cell_type": "code",
   "execution_count": 15,
   "metadata": {},
   "outputs": [],
   "source": [
    "backend = BasicAer.get_backend('qasm_simulator')\n",
    "q = QuantumRegister(1)\n",
    "a = QuantumRegister(1)\n",
    "c = ClassicalRegister(1)"
   ]
  },
  {
   "cell_type": "code",
   "execution_count": 16,
   "metadata": {},
   "outputs": [
    {
     "name": "stdout",
     "output_type": "stream",
     "text": [
      "We are going to estimate E_2 via IQPE algorithm \n",
      "E_2 = 0.935009114747967\n"
     ]
    }
   ],
   "source": [
    "E_1, E_2 = (2 * np.pi * random(), 2 * np.pi * random())\n",
    "print(\"We are going to estimate E_2 via IQPE algorithm \\nE_2 = {}\".format(E_2))"
   ]
  },
  {
   "cell_type": "code",
   "execution_count": 17,
   "metadata": {},
   "outputs": [
    {
     "data": {
      "text/plain": [
       "<qiskit.circuit.instructionset.InstructionSet at 0x7fb06cc93460>"
      ]
     },
     "execution_count": 17,
     "metadata": {},
     "output_type": "execute_result"
    }
   ],
   "source": [
    "# circuit for unitary operator exp(iHt)\n",
    "t = 1\n",
    "unitary = QuantumCircuit(q)\n",
    "for index, qubit in enumerate(a):\n",
    "    unitary.p(E_2 * t, q[0]) # q[0] is the only qubit in q register\n",
    "unitary.x(q[0])\n",
    "unitary.p(E_1 * t, q[0])\n",
    "unitary.x(q[0])"
   ]
  },
  {
   "cell_type": "code",
   "execution_count": 18,
   "metadata": {},
   "outputs": [],
   "source": [
    "# create the circuit for the  control version of the exp(iHt) unitary\n",
    "control_u = get_controlled_circuit(unitary, a[0])"
   ]
  },
  {
   "cell_type": "code",
   "execution_count": 22,
   "metadata": {},
   "outputs": [],
   "source": [
    "num_bits_estimate = 10\n",
    "phase = 0\n",
    "for k_precision in reversed(range(num_bits_estimate)):\n",
    "    # Create a Quantum Circuit acting on the q register\n",
    "    k_circ = QuantumCircuit(q, a, c)\n",
    "\n",
    "    # (1) |1> eigenstate initialization\n",
    "    k_circ.x(q[0])\n",
    "\n",
    "    # (2) Initial Hadamard gate applied on ancillary qubit.\n",
    "    k_circ.h(a[0])\n",
    "\n",
    "    # (3) The control Hamiltonian applied on the qubits where control qubit is the ancillary qubit.\n",
    "    for order in range(2 ** k_precision):\n",
    "        k_circ = k_circ.compose(control_u)\n",
    "\n",
    "    # (4) The phase gate and final Hadamard gate on ancillary qubit.\n",
    "    phase_shift = 2 * np.pi * phase * 2 ** k_precision\n",
    "    k_circ.p(-phase_shift, a[0])\n",
    "    k_circ.h(a[0])\n",
    "\n",
    "    # (5) Measurement of ancillary qubit (findig the bit)\n",
    "    k_circ.measure(a[0], c[0])\n",
    "\n",
    "    # (6) executing on Quantum Computer and finding a bit from the phase\n",
    "    job = execute(k_circ, backend, shots=1000)\n",
    "    result = job.result()\n",
    "    counts = result.get_counts()\n",
    "    value = int(max(counts, key=counts.get))\n",
    "\n",
    "    # (7) phase after this iteration\n",
    "    phase += value / 2 ** (k_precision + 1)"
   ]
  },
  {
   "cell_type": "code",
   "execution_count": 24,
   "metadata": {},
   "outputs": [
    {
     "name": "stdout",
     "output_type": "stream",
     "text": [
      "Eigenvalue of the Hamiltonian: 0.935009114747967\n",
      "Estimated eigenvalue of the Hamiltonian: 0.9326603190344698\n"
     ]
    }
   ],
   "source": [
    "eigenvalue = 2 * np.pi * phase / t\n",
    "print(\"Eigenvalue of the Hamiltonian: {}\".format(E_2))\n",
    "print(\"Estimated eigenvalue of the Hamiltonian: {}\".format(eigenvalue))"
   ]
  },
  {
   "cell_type": "code",
   "execution_count": null,
   "metadata": {},
   "outputs": [],
   "source": []
  }
 ],
 "metadata": {
  "kernelspec": {
   "display_name": "Python 3 (ipykernel)",
   "language": "python",
   "name": "python3"
  },
  "language_info": {
   "codemirror_mode": {
    "name": "ipython",
    "version": 3
   },
   "file_extension": ".py",
   "mimetype": "text/x-python",
   "name": "python",
   "nbconvert_exporter": "python",
   "pygments_lexer": "ipython3",
   "version": "3.10.6"
  }
 },
 "nbformat": 4,
 "nbformat_minor": 2
}
