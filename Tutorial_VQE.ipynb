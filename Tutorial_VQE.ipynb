{
 "cells": [
  {
   "cell_type": "code",
   "execution_count": 1,
   "id": "02ce7491",
   "metadata": {},
   "outputs": [
    {
     "name": "stderr",
     "output_type": "stream",
     "text": [
      "/tmp/ipykernel_87/3394221396.py:9: NatureDeprecationWarning: The qiskit_nature.algorithms.excited_state_solvers package is deprecated as of version 0.5.0 and will be removed no sooner than 3 months after the release. Instead use the qiskit_nature.second_q.algorithms.excited_state_solvers package.\n",
      "  from qiskit_nature.algorithms.ground_state_solvers.minimum_eigensolver_factories import NumPyMinimumEigensolverFactory\n",
      "/tmp/ipykernel_87/3394221396.py:9: NatureDeprecationWarning: The qiskit_nature.algorithms.pes_sampler package is deprecated as of version 0.5.0 and will be removed no sooner than 3 months after the release . Please refer to 'https://github.com/Qiskit/qiskit-nature/issues/750' for additional information regarding 'extrapolators'.\n",
      "  from qiskit_nature.algorithms.ground_state_solvers.minimum_eigensolver_factories import NumPyMinimumEigensolverFactory\n"
     ]
    }
   ],
   "source": [
    "from qiskit_nature.drivers.second_quantization import PySCFDriver\n",
    "from qiskit_nature.problems.second_quantization.electronic import ElectronicStructureProblem\n",
    "\n",
    "from qiskit_nature.converters.second_quantization import QubitConverter\n",
    "from qiskit_nature.mappers.second_quantization import JordanWignerMapper\n",
    "from qiskit_nature.circuit.library import HartreeFock, UCC\n",
    "from qiskit.algorithms.optimizers import COBYLA, CG, SLSQP, L_BFGS_B\n",
    "from qiskit.algorithms import VQE\n",
    "from qiskit_nature.algorithms.ground_state_solvers.minimum_eigensolver_factories import NumPyMinimumEigensolverFactory\n",
    "from qiskit import Aer\n",
    "import numpy as np \n",
    "from qiskit_nature.algorithms.ground_state_solvers import GroundStateEigensolver\n",
    "from qiskit.circuit import Parameter, QuantumCircuit, QuantumRegister\n",
    "\n",
    "import logging\n",
    "logging.basicConfig(filename=\"H2_1.0.log\", level=logging.INFO)\n",
    "logger=logging.getLogger()\n",
    "logger.setLevel(logging.DEBUG)"
   ]
  },
  {
   "cell_type": "code",
   "execution_count": 3,
   "id": "f38909cf",
   "metadata": {},
   "outputs": [
    {
     "name": "stdout",
     "output_type": "stream",
     "text": [
      "<qiskit_nature.problems.second_quantization.electronic.electronic_structure_problem.ElectronicStructureProblem object at 0x7f02081a71f0>\n",
      "overwrite output file: /tmp/tmpnm4dpz98.log\n",
      "Fermionic Operator\n",
      "register length=4, number terms=36\n",
      "  -1.25633907300325 * ( +_0 -_0 )\n",
      "+ -0.47189600728114184 * ( +_1 -_1 )\n",
      "+ -1.25633907300325 * ( +_2 -_2 )\n",
      "+ -0.47189600728114184 * ( +_3 -_3 )\n",
      "+ -0.33785507740175813 * ( +_0 +_0 -_0 -_0 )\n",
      "+ -0.0904 ...\n",
      "-0.8105479805373275 * IIII\n",
      "+ 0.17218393261915557 * IIIZ\n",
      "- 0.2257534922240239 * IIZI\n",
      "+ 0.17218393261915554 * IZII\n",
      "- 0.22575349222402397 * ZIII\n",
      "+ 0.12091263261776627 * IIZZ\n",
      "+ 0.16892753870087907 * IZIZ\n",
      "+ 0.04523279994605784 * YYYY\n",
      "+ 0.04523279994605784 * XXYY\n",
      "+ 0.04523279994605784 * YYXX\n",
      "+ 0.04523279994605784 * XXXX\n",
      "+ 0.16614543256382414 * ZIIZ\n",
      "+ 0.16614543256382414 * IZZI\n",
      "+ 0.17464343068300445 * ZIZI\n",
      "+ 0.12091263261776627 * ZZII\n"
     ]
    }
   ],
   "source": [
    "coord = 'H 0.0 0.0 0.0; H 0.0 0.0 0.735'\n",
    "driver = PySCFDriver(atom=coord, charge=0, spin=0, basis='sto3g')\n",
    "es_problem = ElectronicStructureProblem(driver)\n",
    "print(es_problem)\n",
    "\n",
    "# obtaining qubit Hamiltonian\n",
    "mapper = JordanWignerMapper()\n",
    "converter = QubitConverter(mapper=mapper, two_qubit_reduction=False)\n",
    "second_q_op = es_problem.second_q_ops()\n",
    "print(second_q_op['ElectronicEnergy'])\n",
    "qubit_op = converter.convert(second_q_op['ElectronicEnergy'])\n",
    "print(qubit_op)\n",
    "\n"
   ]
  },
  {
   "cell_type": "code",
   "execution_count": 4,
   "id": "f1b08f2d",
   "metadata": {},
   "outputs": [
    {
     "name": "stdout",
     "output_type": "stream",
     "text": [
      "Number Of Particles:  (1, 1)\n",
      "Number of Spin Orbitals:  4\n",
      "Nuclear Repulsion Energy:  0.7199689944489797\n"
     ]
    },
    {
     "name": "stderr",
     "output_type": "stream",
     "text": [
      "/tmp/ipykernel_87/3601721468.py:28: DeprecationWarning: The class ``qiskit.algorithms.minimum_eigen_solvers.vqe.VQE`` is deprecated as of qiskit-terra 0.24.0. It will be removed no earlier than 3 months after the release date. Instead, use the class ``qiskit.algorithms.minimum_eigensolvers.VQE``. See https://qisk.it/algo_migration for a migration guide.\n",
      "  algorithm = VQE(ansatz,quantum_instance=backend)\n"
     ]
    },
    {
     "name": "stdout",
     "output_type": "stream",
     "text": [
      "HF Energy is -1.116998996754004\n",
      "no of parameters 3\n",
      "Excitation list is [((0,), (1,)), ((2,), (3,)), ((0, 2), (1, 3))]\n",
      "     ┌───┐┌───────────────────────────────────┐»\n",
      "q_0: ┤ X ├┤0                                  ├»\n",
      "     └───┘│                                   │»\n",
      "q_1: ─────┤1                                  ├»\n",
      "     ┌───┐│  exp(-it (IIXY + IIYX))(1.0*t[0]) │»\n",
      "q_2: ┤ X ├┤2                                  ├»\n",
      "     └───┘│                                   │»\n",
      "q_3: ─────┤3                                  ├»\n",
      "          └───────────────────────────────────┘»\n",
      "«     ┌───────────────────────────────────┐»\n",
      "«q_0: ┤0                                  ├»\n",
      "«     │                                   │»\n",
      "«q_1: ┤1                                  ├»\n",
      "«     │  exp(-it (XYII + YXII))(1.0*t[1]) │»\n",
      "«q_2: ┤2                                  ├»\n",
      "«     │                                   │»\n",
      "«q_3: ┤3                                  ├»\n",
      "«     └───────────────────────────────────┘»\n",
      "«     ┌─────────────────────────────────────────────────────────────────────────────┐\n",
      "«q_0: ┤0                                                                            ├\n",
      "«     │                                                                             │\n",
      "«q_1: ┤1                                                                            ├\n",
      "«     │  exp(-it (YYXY + XXXY + XYYY + YXYY + XYXX + YXXX + YYYX + XXYX))(1.0*t[2]) │\n",
      "«q_2: ┤2                                                                            ├\n",
      "«     │                                                                             │\n",
      "«q_3: ┤3                                                                            ├\n",
      "«     └─────────────────────────────────────────────────────────────────────────────┘\n"
     ]
    },
    {
     "name": "stderr",
     "output_type": "stream",
     "text": [
      "/tmp/ipykernel_87/3601721468.py:52: DeprecationWarning: The class ``qiskit.algorithms.minimum_eigen_solvers.vqe.VQE`` is deprecated as of qiskit-terra 0.24.0. It will be removed no earlier than 3 months after the release date. Instead, use the class ``qiskit.algorithms.minimum_eigensolvers.VQE``. See https://qisk.it/algo_migration for a migration guide.\n",
      "  vqe1 = VQE(var_form, optimizer=optimizer, callback = store_intermediate_result, quantum_instance=backend)\n"
     ]
    },
    {
     "name": "stdout",
     "output_type": "stream",
     "text": [
      "VQE Optimized UCCSD Energy is -1.1373060275140134\n",
      "overwrite output file: /tmp/tmpv6sqob7r.log\n"
     ]
    },
    {
     "name": "stderr",
     "output_type": "stream",
     "text": [
      "/tmp/ipykernel_87/3601721468.py:59: NatureDeprecationWarning: The qiskit_nature.algorithms.ground_state_solvers.GroundStateEigensolver class is deprecated as of version 0.5.0 and will be removed no sooner than 3 months after the release. Instead use the qiskit_nature.second_q.algorithms.ground_state_solvers.GroundStateEigensolver class.\n",
      "  calc = GroundStateEigensolver(converter, solver)\n"
     ]
    },
    {
     "name": "stdout",
     "output_type": "stream",
     "text": [
      "EXACT ENERGY:  -1.137306035753403\n"
     ]
    },
    {
     "data": {
      "image/png": "[encoded data removed]",
      "text/plain": [
       "<Figure size 640x480 with 1 Axes>"
      ]
     },
     "metadata": {},
     "output_type": "display_data"
    }
   ],
   "source": [
    "es_particle_number = es_problem.grouped_property_transformed.get_property('ParticleNumber')\n",
    "num_particles = (es_particle_number.num_alpha, es_particle_number.num_beta)\n",
    "num_spin_orbitals = es_particle_number.num_spin_orbitals\n",
    "es_energy = es_problem.grouped_property_transformed.get_property('ElectronicEnergy')\n",
    "#print(es_energy.electronic_energy)\n",
    "nuclear_repulsion_energy = es_energy.nuclear_repulsion_energy\n",
    "shift = nuclear_repulsion_energy\n",
    "print('Number Of Particles: ',num_particles)\n",
    "print('Number of Spin Orbitals: ', num_spin_orbitals)\n",
    "print('Nuclear Repulsion Energy: ', nuclear_repulsion_energy)\n",
    "\n",
    "\n",
    "# initialization of state\n",
    "init_state = HartreeFock(num_spin_orbitals, num_particles, converter)\n",
    "\n",
    "#optimizer = L_BFGS_B(maxfun=200000,maxiter=10000)\n",
    "backend = Aer.get_backend('statevector_simulator')\n",
    "\n",
    "#Create dummy parametrized circuit for HF calculation\n",
    "theta = Parameter('a')\n",
    "n = qubit_op.num_qubits\n",
    "qc = QuantumCircuit(qubit_op.num_qubits)\n",
    "qc.rz(theta*0,0)\n",
    "ansatz = qc\n",
    "ansatz.compose(init_state, front=True, inplace=True)\n",
    "\n",
    "#Pass it through VQE\n",
    "algorithm = VQE(ansatz,quantum_instance=backend)\n",
    "result = algorithm.compute_minimum_eigenvalue(qubit_op).eigenvalue\n",
    "print('HF Energy is',np.real(result)+shift)\n",
    "\n",
    "# Variational ansatz formation\n",
    "var_form = UCC(num_particles=num_particles,num_spin_orbitals=num_spin_orbitals, excitations='sd', initial_state=init_state, qubit_converter=converter)\n",
    "excitation_list = var_form._get_excitation_list()\n",
    "print('no of parameters',var_form.num_parameters)\n",
    "print('Excitation list is',excitation_list)\n",
    "circuit = var_form.decompose()\n",
    "print(circuit)\n",
    "\n",
    "\n",
    "backend = Aer.get_backend('statevector_simulator')\n",
    "\n",
    "optimizer = COBYLA(maxiter=10000)\n",
    "\n",
    "counts = list()\n",
    "values = list()\n",
    "def store_intermediate_result(eval_count, parameters, mean, std):\n",
    "    counts.append(eval_count)\n",
    "    values.append(mean)\n",
    "\n",
    "#VQE optimization\n",
    "vqe1 = VQE(var_form, optimizer=optimizer, callback = store_intermediate_result, quantum_instance=backend)\n",
    "vqe_result = vqe1.compute_minimum_eigenvalue(qubit_op)\n",
    "E1 = np.real(vqe_result.eigenvalue)+shift\n",
    "print('VQE Optimized UCCSD Energy is',E1)\n",
    "\n",
    "# NumPyMinimumEigensolver (FCI Energy)\n",
    "solver = NumPyMinimumEigensolverFactory()\n",
    "calc = GroundStateEigensolver(converter, solver)\n",
    "numpy_result = calc.solve(es_problem)\n",
    "exact_energy = np.real(numpy_result.eigenenergies[0]) + shift\n",
    "print('EXACT ENERGY: ', exact_energy)\n",
    "\n",
    "# plot the convergence pattern\n",
    "import matplotlib.pyplot as plt\n",
    "\n",
    "plt.plot(counts,values,c='r',linewidth=2,label='COBYLA')\n",
    "plt.legend()\n",
    "plt.grid()\n",
    "#plt.show()\n",
    "\n",
    "#plt.savefig('H2_Con.png',dpi=600)\n",
    "plt.show()"
   ]
  },
  {
   "cell_type": "code",
   "execution_count": null,
   "id": "1e844412",
   "metadata": {},
   "outputs": [],
   "source": []
  }
 ],
 "metadata": {
  "kernelspec": {
   "display_name": "Python 3 (ipykernel)",
   "language": "python",
   "name": "python3"
  },
  "language_info": {
   "codemirror_mode": {
    "name": "ipython",
    "version": 3
   },
   "file_extension": ".py",
   "mimetype": "text/x-python",
   "name": "python",
   "nbconvert_exporter": "python",
   "pygments_lexer": "ipython3",
   "version": "3.10.6"
  }
 },
 "nbformat": 4,
 "nbformat_minor": 5
}
