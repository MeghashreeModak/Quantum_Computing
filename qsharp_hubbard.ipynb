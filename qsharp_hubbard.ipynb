{
 "cells": [
  {
   "cell_type": "code",
   "execution_count": 1,
   "id": "240c5690",
   "metadata": {},
   "outputs": [
    {
     "name": "stdout",
     "output_type": "stream",
     "text": [
      "Defaulting to user installation because normal site-packages is not writeable\n",
      "Collecting qsharp\n",
      "  Downloading qsharp-0.28.291394-py3-none-any.whl (2.2 kB)\n",
      "Collecting qsharp-chemistry==0.28.291394\n",
      "  Downloading qsharp_chemistry-0.28.291394-py3-none-any.whl (5.6 kB)\n",
      "Collecting qsharp-core==0.28.291394\n",
      "  Downloading qsharp_core-0.28.291394-py3-none-any.whl (43 kB)\n",
      "\u001b[2K     \u001b[90m━━━━━━━━━━━━━━━━━━━━━━━━━━━━━━━━━━━━━━━\u001b[0m \u001b[32m43.0/43.0 KB\u001b[0m \u001b[31m350.5 kB/s\u001b[0m eta \u001b[36m0:00:00\u001b[0ma \u001b[36m0:00:01\u001b[0m\n",
      "\u001b[?25hRequirement already satisfied: jupyter-client>=7.3.4 in /home/meghashree/.local/lib/python3.10/site-packages (from qsharp-core==0.28.291394->qsharp) (8.1.0)\n",
      "Requirement already satisfied: tornado>=6.2 in /home/meghashree/.local/lib/python3.10/site-packages (from jupyter-client>=7.3.4->qsharp-core==0.28.291394->qsharp) (6.2)\n",
      "Requirement already satisfied: jupyter-core!=5.0.*,>=4.12 in /home/meghashree/.local/lib/python3.10/site-packages (from jupyter-client>=7.3.4->qsharp-core==0.28.291394->qsharp) (5.3.0)\n",
      "Requirement already satisfied: python-dateutil>=2.8.2 in /home/meghashree/.local/lib/python3.10/site-packages (from jupyter-client>=7.3.4->qsharp-core==0.28.291394->qsharp) (2.8.2)\n",
      "Requirement already satisfied: pyzmq>=23.0 in /home/meghashree/.local/lib/python3.10/site-packages (from jupyter-client>=7.3.4->qsharp-core==0.28.291394->qsharp) (25.0.2)\n",
      "Requirement already satisfied: traitlets>=5.3 in /home/meghashree/.local/lib/python3.10/site-packages (from jupyter-client>=7.3.4->qsharp-core==0.28.291394->qsharp) (5.9.0)\n",
      "Requirement already satisfied: platformdirs>=2.5 in /home/meghashree/.local/lib/python3.10/site-packages (from jupyter-core!=5.0.*,>=4.12->jupyter-client>=7.3.4->qsharp-core==0.28.291394->qsharp) (3.2.0)\n",
      "Requirement already satisfied: six>=1.5 in /usr/lib/python3/dist-packages (from python-dateutil>=2.8.2->jupyter-client>=7.3.4->qsharp-core==0.28.291394->qsharp) (1.16.0)\n",
      "Installing collected packages: qsharp-core, qsharp-chemistry, qsharp\n",
      "Successfully installed qsharp-0.28.291394 qsharp-chemistry-0.28.291394 qsharp-core-0.28.291394\n",
      "Note: you may need to restart the kernel to use updated packages.\n"
     ]
    }
   ],
   "source": [
    "pip install qsharp"
   ]
  },
  {
   "cell_type": "code",
   "execution_count": 14,
   "id": "9aacad87",
   "metadata": {},
   "outputs": [
    {
     "ename": "AttributeError",
     "evalue": "partially initialized module 'qsharp' has no attribute 'noise_model' (most likely due to a circular import)",
     "output_type": "error",
     "traceback": [
      "\u001b[0;31m---------------------------------------------------------------------------\u001b[0m",
      "\u001b[0;31mAttributeError\u001b[0m                            Traceback (most recent call last)",
      "Cell \u001b[0;32mIn[14], line 1\u001b[0m\n\u001b[0;32m----> 1\u001b[0m \u001b[38;5;28;01mimport\u001b[39;00m \u001b[38;5;21;01mqsharp\u001b[39;00m\n\u001b[1;32m      2\u001b[0m \u001b[38;5;28;01mfrom\u001b[39;00m \u001b[38;5;21;01mHubbard\u001b[39;00m \u001b[38;5;28;01mimport\u001b[39;00m EstimateEigenstateEnergy\n\u001b[1;32m      3\u001b[0m \u001b[38;5;28;01mimport\u001b[39;00m \u001b[38;5;21;01mmatplotlib\u001b[39;00m\u001b[38;5;21;01m.\u001b[39;00m\u001b[38;5;21;01mpyplot\u001b[39;00m \u001b[38;5;28;01mas\u001b[39;00m \u001b[38;5;21;01mplt\u001b[39;00m\n",
      "File \u001b[0;32m~/.local/lib/python3.10/site-packages/qsharp/__init__.py:50\u001b[0m\n\u001b[1;32m     48\u001b[0m \u001b[38;5;28;01mfrom\u001b[39;00m \u001b[38;5;21;01mqsharp\u001b[39;00m\u001b[38;5;21;01m.\u001b[39;00m\u001b[38;5;21;01mnoise_model\u001b[39;00m \u001b[38;5;28;01mimport\u001b[39;00m \u001b[38;5;241m*\u001b[39m\n\u001b[1;32m     49\u001b[0m \u001b[38;5;28;01mimport\u001b[39;00m \u001b[38;5;21;01mqsharp\u001b[39;00m\u001b[38;5;21;01m.\u001b[39;00m\u001b[38;5;21;01mnoise_model\u001b[39;00m\n\u001b[0;32m---> 50\u001b[0m __all__ \u001b[38;5;241m+\u001b[39m\u001b[38;5;241m=\u001b[39m \u001b[43mqsharp\u001b[49m\u001b[38;5;241;43m.\u001b[39;49m\u001b[43mnoise_model\u001b[49m\u001b[38;5;241m.\u001b[39m__all__\n\u001b[1;32m     52\u001b[0m \u001b[38;5;66;03m## FUNCTIONS ##\u001b[39;00m\n\u001b[1;32m     54\u001b[0m \u001b[38;5;28;01mdef\u001b[39;00m \u001b[38;5;21mcompile\u001b[39m(code : \u001b[38;5;28mstr\u001b[39m) \u001b[38;5;241m-\u001b[39m\u001b[38;5;241m>\u001b[39m Union[\u001b[38;5;28;01mNone\u001b[39;00m, QSharpCallable, List[QSharpCallable]]:\n",
      "\u001b[0;31mAttributeError\u001b[0m: partially initialized module 'qsharp' has no attribute 'noise_model' (most likely due to a circular import)"
     ]
    }
   ],
   "source": [
    "import qsharp\n",
    "from Hubbard import EstimateEigenstateEnergy\n",
    "import matplotlib.pyplot as plt"
   ]
  },
  {
   "cell_type": "code",
   "execution_count": 15,
   "id": "f135e3ba",
   "metadata": {},
   "outputs": [
    {
     "ename": "NameError",
     "evalue": "name 'EstimateEigenstateEnergy' is not defined",
     "output_type": "error",
     "traceback": [
      "\u001b[0;31m---------------------------------------------------------------------------\u001b[0m",
      "\u001b[0;31mNameError\u001b[0m                                 Traceback (most recent call last)",
      "Cell \u001b[0;32mIn[15], line 16\u001b[0m\n\u001b[1;32m     14\u001b[0m x \u001b[38;5;241m=\u001b[39m []\n\u001b[1;32m     15\u001b[0m \u001b[38;5;28;01mfor\u001b[39;00m i \u001b[38;5;129;01min\u001b[39;00m \u001b[38;5;28mrange\u001b[39m (n):\n\u001b[0;32m---> 16\u001b[0m     energy \u001b[38;5;241m=\u001b[39m \u001b[43mEstimateEigenstateEnergy\u001b[49m \u001b[38;5;241m.\u001b[39m simulate ( xDim \u001b[38;5;241m=\u001b[39mxDim , yDim \u001b[38;5;241m=\u001b[39myDim , t\u001b[38;5;241m=\u001b[39mt, U\u001b[38;5;241m=\u001b[39mU, stepSize \u001b[38;5;241m=\u001b[39m stepSize , trotterOrder \u001b[38;5;241m=\u001b[39m trotterOrder , bitPrecision \u001b[38;5;241m=\u001b[39m bitPrecision )\n\u001b[1;32m     17\u001b[0m     x\u001b[38;5;241m.\u001b[39m append ( energy )\n\u001b[1;32m     18\u001b[0m     \u001b[38;5;28mprint\u001b[39m (i, \u001b[38;5;124m\"\u001b[39m\u001b[38;5;124m/\u001b[39m\u001b[38;5;124m\"\u001b[39m, n, \u001b[38;5;124m\"\u001b[39m\u001b[38;5;124m Energy :\u001b[39m\u001b[38;5;124m\"\u001b[39m, energy )\n",
      "\u001b[0;31mNameError\u001b[0m: name 'EstimateEigenstateEnergy' is not defined"
     ]
    }
   ],
   "source": [
    "show = False\n",
    "\n",
    "n = 100\n",
    "bins = 100\n",
    "xDim = 2\n",
    "yDim = 2\n",
    "t = 1.0\n",
    "U = 0.0\n",
    "stepSize = 0.1\n",
    "trotterOrder = 1\n",
    "bitPrecision = 7\n",
    "\n",
    "paramStr = str( xDim ) + \"x\" + str( yDim ) + \", t=\" + str (t) + \", U=\" + str(U) + \", step =\" + str ( stepSize ) + \", order =\" + str( trotterOrder ) + \", bitPrec =\" + str ( bitPrecision ) + \", n=\" + str(n)\n",
    "x = []\n",
    "for i in range (n):\n",
    "    energy = EstimateEigenstateEnergy . simulate ( xDim =xDim , yDim =yDim , t=t, U=U, stepSize = stepSize , trotterOrder = trotterOrder , bitPrecision = bitPrecision )\n",
    "    x. append ( energy )\n",
    "    print (i, \"/\", n, \" Energy :\", energy )\n",
    "\n",
    "print (\" Energy error from phase estimation :\", 2**( - bitPrecision )/ stepSize )\n",
    "plt . hist (x, bins = bins )\n",
    "plt . title ( paramStr )\n",
    "\n",
    "if show == True :\n",
    "    plt . show ()\n",
    "else :\n",
    "    plt . savefig ( paramStr + \". png\")"
   ]
  },
  {
   "cell_type": "code",
   "execution_count": 13,
   "id": "428b2d77",
   "metadata": {},
   "outputs": [
    {
     "ename": "SyntaxError",
     "evalue": "'{' was never closed (1211622027.py, line 1)",
     "output_type": "error",
     "traceback": [
      "\u001b[0;36m  Cell \u001b[0;32mIn[13], line 1\u001b[0;36m\u001b[0m\n\u001b[0;31m    namespace Hubbard {\u001b[0m\n\u001b[0m                      ^\u001b[0m\n\u001b[0;31mSyntaxError\u001b[0m\u001b[0;31m:\u001b[0m '{' was never closed\n"
     ]
    }
   ],
   "source": [
    "namespace Hubbard {\n",
    "    open Microsoft . Quantum . Intrinsic ;\n",
    "    open Microsoft . Quantum . Arrays ;\n",
    "    open Microsoft . Quantum . Characterization ;\n",
    "    open Microsoft . Quantum . Oracles ;\n",
    "    open Microsoft . Quantum . Canon ;\n",
    "\n",
    "    function Void () : Unit {\n",
    "     }\n",
    "\n",
    "    // Estimates the eigenstate energy using the 2D Hubbard - Hamiltonian in the half - full case\n",
    "    operation EstimateEigenstateEnergy (( xDim : Int , yDim : Int), t : Double ,\n",
    "                                        U : Double , stepSize : Double ,\n",
    "                                        trotterOrder : Int ,\n",
    "                                        bitPrecision : Int ) : Double {\n",
    "        let nSites = xDim*yDim ;\n",
    "\n",
    "    // Gets the hubbard terms\n",
    "    let hubbardTerms = GetHubbardTerm (nSites , xDim , t, U, _, _, _);\n",
    "    // Combines hubbard term application into one operation using the Trotter - Suzuki integrator\n",
    "    let trotterIntegrator = DecomposedIntoTimeStepsCA ((5* nSites , hubbardTerms ), trotterOrder );\n",
    "    // Converts trotterIntegrator unitary operation to DiscreteOracle type\n",
    "    let oracle = OracleToDiscrete ( trotterIntegrator ( stepSize , _));\n",
    "\n",
    "    using ( qubits = Qubit [2* nSites ]) {\n",
    "    // Each site is represented by a pair of qubits , one for spin -up\n",
    "    // and one for spin - down . The qubits can be imagined as being\n",
    "    // arranged in a so called snake -shape , where the first half of\n",
    "    // the qubits represents the spin -up modes from site 1 to n and the\n",
    "    // second half represents the spin - down modes from site n to 1.\n",
    "\n",
    "    // Initialises the anti - ferromagnetic , half - fullstate\n",
    "    for ((i, qubit ) in Enumerated ( qubits )) {\n",
    "        if (i%2 == 0) {X( qubit );}\n",
    "    }\n",
    "\n",
    "    // Estimates the phase of the operator which equals the energy times the stepsize\n",
    "    let energy = RobustPhaseEstimation ( bitPrecision , oracle , qubits )/ stepSize ;\n",
    "    ResetAll ( qubits );\n",
    "    return energy ;\n",
    "        }\n",
    "    }\n",
    "\n",
    "    operation GetHubbardTerm ( nSites : Int , xDim : Int , t : Double , U : Double , i : Int ,\n",
    "                              stepSize : Double , qubits : Qubit []) : Unit is Adj + Ctl {\n",
    "     // Onsite terms\n",
    "    if (i < nSites ) {\n",
    "        GetHubbardOnsiteTerm (nSites , i, U* stepSize , qubits );\n",
    "    }\n",
    "    // Array - adjacent hopping terms\n",
    "    elif (i < 3* nSites - 1 && i != 2* nSites - 1) {\n",
    "    GetHubbardArrayAdjacentHoppingTerm (nSites , xDim , i - nSites , t* stepSize , qubits );\n",
    "     }\n",
    "    // Non -array - adjacent hopping terms\n",
    "     elif (i >= 3* nSites && (i - 3* nSites + 1) % xDim != 0 && (i < 5* nSites - xDim &&\n",
    "                                                                 (i < 4* nSites - xDim || i >= 4* nSites ))) {\n",
    "         GetHubbardNonArrayAdjacentHoppingTerm (nSites , xDim , i - 3* nSites , t* stepSize , qubits );\n",
    "        }\n",
    "    }\n",
    "    \n",
    "\n",
    "    operation GetHubbardOnsiteTerm ( nSites : Int , i : Int , c : Double , qubits : Qubit []) : Unit is Adj + Ctl {\n",
    "        Exp ([ PauliI ], 0.25*c, [ qubits [i]]);\n",
    "        Exp ([ PauliZ ], -0.25*c, [ qubits [i]]);\n",
    "        Exp ([ PauliZ ], -0.25*c, [ qubits [2* nSites - 1 - i]]);\n",
    "        Exp ([ PauliZ , PauliZ ], 0.25*c, [ qubits [i], qubits [2* nSites - 1 - i]]);\n",
    "    }\n",
    "\n",
    "    operation GetHubbardArrayAdjacentHoppingTerm ( nSites : Int , xDim : Int , i : Int , c : Double , qubits : Qubit []) : Unit is Adj + Ctl {\n",
    "        let target = qubits [i .. i + 1];\n",
    "        Exp ([ PauliX , PauliX ], -0.5*c, target );\n",
    "        Exp ([ PauliY , PauliY ], -0.5*c, target );\n",
    "    }\n",
    "\n",
    "    operation GetHubbardNonArrayAdjacentHoppingTerm ( nSites : Int , xDim : Int , i : Int , c : Double , qubits : Qubit []) : Unit is Adj + Ctl {\n",
    "        let target = qubits [i .. i + 2* xDim - 1 - 2*( i % xDim )];\n",
    "        Exp ( GetPauliString ( Length ( target ), PauliX ), -0.5*c, target );\n",
    "        Exp ( GetPauliString ( Length ( target ), PauliY ), -0.5*c, target );\n",
    "    }\n",
    "\n",
    "    function GetPauliString ( length : Int , direction : Pauli ) : Pauli [] {\n",
    "     mutable pauli = ConstantArray (length , PauliZ );\n",
    "     set pauli w/= 0 <- direction ;\n",
    "     set pauli w/= length - 1 <- direction ;\n",
    "     return pauli ;\n",
    "    }\n",
    "}"
   ]
  },
  {
   "cell_type": "code",
   "execution_count": null,
   "id": "0b11aa9b",
   "metadata": {},
   "outputs": [],
   "source": []
  }
 ],
 "metadata": {
  "kernelspec": {
   "display_name": "Python 3 (ipykernel)",
   "language": "python",
   "name": "python3"
  },
  "language_info": {
   "codemirror_mode": {
    "name": "ipython",
    "version": 3
   },
   "file_extension": ".py",
   "mimetype": "text/x-python",
   "name": "python",
   "nbconvert_exporter": "python",
   "pygments_lexer": "ipython3",
   "version": "3.10.6"
  }
 },
 "nbformat": 4,
 "nbformat_minor": 5
}
