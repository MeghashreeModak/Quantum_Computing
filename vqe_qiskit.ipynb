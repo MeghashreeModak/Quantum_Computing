{
 "cells": [
  {
   "cell_type": "code",
   "execution_count": 1,
   "id": "4f95eb4d",
   "metadata": {},
   "outputs": [
    {
     "name": "stderr",
     "output_type": "stream",
     "text": [
      "/tmp/ipykernel_89/2952703543.py:9: NatureDeprecationWarning: The qiskit_nature.algorithms.excited_state_solvers package is deprecated as of version 0.5.0 and will be removed no sooner than 3 months after the release. Instead use the qiskit_nature.second_q.algorithms.excited_state_solvers package.\n",
      "  from qiskit_nature.algorithms.ground_state_solvers.minimum_eigensolver_factories import NumPyMinimumEigensolverFactory\n",
      "/tmp/ipykernel_89/2952703543.py:9: NatureDeprecationWarning: The qiskit_nature.algorithms.pes_sampler package is deprecated as of version 0.5.0 and will be removed no sooner than 3 months after the release . Please refer to 'https://github.com/Qiskit/qiskit-nature/issues/750' for additional information regarding 'extrapolators'.\n",
      "  from qiskit_nature.algorithms.ground_state_solvers.minimum_eigensolver_factories import NumPyMinimumEigensolverFactory\n"
     ]
    },
    {
     "name": "stdout",
     "output_type": "stream",
     "text": [
      "overwrite output file: /tmp/tmpii5kg2rv.log\n",
      "Fermionic Operator\n",
      "register length=4, number terms=36\n",
      "  -1.25633907300325 * ( +_0 -_0 )\n",
      "+ -0.47189600728114184 * ( +_1 -_1 )\n",
      "+ -1.25633907300325 * ( +_2 -_2 )\n",
      "+ -0.47189600728114184 * ( +_3 -_3 )\n",
      "+ -0.33785507740175813 * ( +_0 +_0 -_0 -_0 )\n",
      "+ -0.0904 ...\n",
      "-0.8105479805373275 * IIII\n",
      "+ 0.17218393261915557 * IIIZ\n",
      "- 0.2257534922240239 * IIZI\n",
      "+ 0.17218393261915554 * IZII\n",
      "- 0.22575349222402397 * ZIII\n",
      "+ 0.12091263261776627 * IIZZ\n",
      "+ 0.16892753870087907 * IZIZ\n",
      "+ 0.04523279994605784 * YYYY\n",
      "+ 0.04523279994605784 * XXYY\n",
      "+ 0.04523279994605784 * YYXX\n",
      "+ 0.04523279994605784 * XXXX\n",
      "+ 0.16614543256382414 * ZIIZ\n",
      "+ 0.16614543256382414 * IZZI\n",
      "+ 0.17464343068300445 * ZIZI\n",
      "+ 0.12091263261776627 * ZZII\n",
      "Number Of Particles:  (1, 1)\n",
      "Number of Spin Orbitals:  4\n",
      "Nuclear Repulsion Energy:  0.7199689944489797\n"
     ]
    },
    {
     "name": "stderr",
     "output_type": "stream",
     "text": [
      "/tmp/ipykernel_89/2952703543.py:59: DeprecationWarning: The class ``qiskit.algorithms.minimum_eigen_solvers.vqe.VQE`` is deprecated as of qiskit-terra 0.24.0. It will be removed no earlier than 3 months after the release date. Instead, use the class ``qiskit.algorithms.minimum_eigensolvers.VQE``. See https://qisk.it/algo_migration for a migration guide.\n",
      "  algorithm = VQE(ansatz,quantum_instance=backend)\n"
     ]
    },
    {
     "name": "stdout",
     "output_type": "stream",
     "text": [
      "HF Energy is -1.116998996754004\n"
     ]
    }
   ],
   "source": [
    "from qiskit_nature.drivers.second_quantization import PySCFDriver\n",
    "from qiskit_nature.problems.second_quantization.electronic import ElectronicStructureProblem\n",
    "\n",
    "from qiskit_nature.converters.second_quantization import QubitConverter\n",
    "from qiskit_nature.mappers.second_quantization import JordanWignerMapper\n",
    "from qiskit_nature.circuit.library import HartreeFock, UCC\n",
    "from qiskit.algorithms.optimizers import COBYLA, CG, SLSQP, L_BFGS_B\n",
    "from qiskit.algorithms import VQE\n",
    "from qiskit_nature.algorithms.ground_state_solvers.minimum_eigensolver_factories import NumPyMinimumEigensolverFactory\n",
    "from qiskit import Aer\n",
    "import numpy as np \n",
    "from qiskit_nature.algorithms.ground_state_solvers import GroundStateEigensolver\n",
    "from qiskit.circuit import Parameter, QuantumCircuit, QuantumRegister\n",
    "\n",
    "import logging\n",
    "logging.basicConfig(filename=\"H2_1.0.log\", level=logging.INFO)\n",
    "logger=logging.getLogger()\n",
    "logger.setLevel(logging.DEBUG)\n",
    "\n",
    "coord = 'H 0.0 0.0 0.0; H 0.0 0.0 0.735'\n",
    "driver = PySCFDriver(atom=coord, charge=0, spin=0, basis='sto3g')\n",
    "es_problem = ElectronicStructureProblem(driver)\n",
    "\n",
    "# obtaining qubit Hamiltonian\n",
    "mapper = JordanWignerMapper()\n",
    "converter = QubitConverter(mapper=mapper, two_qubit_reduction=False)\n",
    "second_q_op = es_problem.second_q_ops()\n",
    "print(second_q_op['ElectronicEnergy'])\n",
    "qubit_op = converter.convert(second_q_op['ElectronicEnergy'])\n",
    "print(qubit_op)\n",
    "\n",
    "es_particle_number = es_problem.grouped_property_transformed.get_property('ParticleNumber')\n",
    "num_particles = (es_particle_number.num_alpha, es_particle_number.num_beta)\n",
    "num_spin_orbitals = es_particle_number.num_spin_orbitals\n",
    "es_energy = es_problem.grouped_property_transformed.get_property('ElectronicEnergy')\n",
    "#print(es_energy.electronic_energy)\n",
    "nuclear_repulsion_energy = es_energy.nuclear_repulsion_energy\n",
    "shift = nuclear_repulsion_energy\n",
    "print('Number Of Particles: ',num_particles)\n",
    "print('Number of Spin Orbitals: ', num_spin_orbitals)\n",
    "print('Nuclear Repulsion Energy: ', nuclear_repulsion_energy)\n",
    "\n",
    "\n",
    "# initialization of state\n",
    "init_state = HartreeFock(num_spin_orbitals, num_particles, converter)\n",
    "\n",
    "#optimizer = L_BFGS_B(maxfun=200000,maxiter=10000)\n",
    "backend = Aer.get_backend('statevector_simulator')\n",
    "\n",
    "#Create dummy parametrized circuit for HF calculation\n",
    "theta = Parameter('a')\n",
    "n = qubit_op.num_qubits\n",
    "qc = QuantumCircuit(qubit_op.num_qubits)\n",
    "qc.rz(theta*0,0)\n",
    "ansatz = qc\n",
    "ansatz.compose(init_state, front=True, inplace=True)\n",
    "\n",
    "#Pass it through VQE\n",
    "algorithm = VQE(ansatz,quantum_instance=backend)\n",
    "result = algorithm.compute_minimum_eigenvalue(qubit_op).eigenvalue\n",
    "print('HF Energy is',np.real(result)+shift)\n"
   ]
  },
  {
   "cell_type": "code",
   "execution_count": 5,
   "id": "1e3eeb4a",
   "metadata": {},
   "outputs": [
    {
     "name": "stdout",
     "output_type": "stream",
     "text": [
      "overwrite output file: /tmp/tmputvgkt0r.log\n",
      "Fermionic Operator\n",
      "register length=4, number terms=36\n",
      "  -1.25633907300325 * ( +_0 -_0 )\n",
      "+ -0.47189600728114184 * ( +_1 -_1 )\n",
      "+ -1.25633907300325 * ( +_2 -_2 )\n",
      "+ -0.47189600728114184 * ( +_3 -_3 )\n",
      "+ -0.33785507740175813 * ( +_0 +_0 -_0 -_0 )\n",
      "+ -0.0904 ...\n"
     ]
    }
   ],
   "source": [
    "second_q_op = es_problem.second_q_ops()\n",
    "print(second_q_op['ElectronicEnergy'])"
   ]
  },
  {
   "cell_type": "code",
   "execution_count": 2,
   "id": "172ccf90",
   "metadata": {},
   "outputs": [
    {
     "name": "stdout",
     "output_type": "stream",
     "text": [
      "<qiskit_nature.drivers.second_quantization.pyscfd.pyscfdriver.PySCFDriver object at 0x7f2765602ef0>\n"
     ]
    }
   ],
   "source": [
    "print(driver)"
   ]
  },
  {
   "cell_type": "code",
   "execution_count": 3,
   "id": "af66c05f",
   "metadata": {},
   "outputs": [
    {
     "ename": "AttributeError",
     "evalue": "'ElectronicStructureProblem' object has no attribute 'hamiltonian'",
     "output_type": "error",
     "traceback": [
      "\u001b[0;31m---------------------------------------------------------------------------\u001b[0m",
      "\u001b[0;31mAttributeError\u001b[0m                            Traceback (most recent call last)",
      "Cell \u001b[0;32mIn[3], line 1\u001b[0m\n\u001b[0;32m----> 1\u001b[0m \u001b[43mes_problem\u001b[49m\u001b[38;5;241;43m.\u001b[39;49m\u001b[43mhamiltonian\u001b[49m()\n",
      "\u001b[0;31mAttributeError\u001b[0m: 'ElectronicStructureProblem' object has no attribute 'hamiltonian'"
     ]
    }
   ],
   "source": [
    "es_problem"
   ]
  },
  {
   "cell_type": "code",
   "execution_count": 5,
   "id": "1cf59e0d",
   "metadata": {},
   "outputs": [
    {
     "ename": "NameError",
     "evalue": "name 'integrals' is not defined",
     "output_type": "error",
     "traceback": [
      "\u001b[0;31m---------------------------------------------------------------------------\u001b[0m",
      "\u001b[0;31mNameError\u001b[0m                                 Traceback (most recent call last)",
      "Cell \u001b[0;32mIn[5], line 3\u001b[0m\n\u001b[1;32m      1\u001b[0m \u001b[38;5;28;01mfrom\u001b[39;00m \u001b[38;5;21;01mqiskit_nature\u001b[39;00m\u001b[38;5;21;01m.\u001b[39;00m\u001b[38;5;21;01msecond_q\u001b[39;00m\u001b[38;5;21;01m.\u001b[39;00m\u001b[38;5;21;01mhamiltonians\u001b[39;00m \u001b[38;5;28;01mimport\u001b[39;00m ElectronicEnergy\n\u001b[0;32m----> 3\u001b[0m hamiltonian \u001b[38;5;241m=\u001b[39m ElectronicEnergy(\u001b[43mintegrals\u001b[49m, constants\u001b[38;5;241m=\u001b[39m{\u001b[38;5;124m\"\u001b[39m\u001b[38;5;124mnuclear_repulsion_energy\u001b[39m\u001b[38;5;124m\"\u001b[39m: \u001b[38;5;241m1.0\u001b[39m})\n",
      "\u001b[0;31mNameError\u001b[0m: name 'integrals' is not defined"
     ]
    }
   ],
   "source": [
    "from qiskit_nature.second_q.hamiltonians import ElectronicEnergy\n",
    "\n",
    "hamiltonian = ElectronicEnergy(integrals, constants={\"nuclear_repulsion_energy\": 1.0})"
   ]
  },
  {
   "cell_type": "code",
   "execution_count": null,
   "id": "bfd7b3d2",
   "metadata": {},
   "outputs": [],
   "source": []
  }
 ],
 "metadata": {
  "kernelspec": {
   "display_name": "Python 3 (ipykernel)",
   "language": "python",
   "name": "python3"
  },
  "language_info": {
   "codemirror_mode": {
    "name": "ipython",
    "version": 3
   },
   "file_extension": ".py",
   "mimetype": "text/x-python",
   "name": "python",
   "nbconvert_exporter": "python",
   "pygments_lexer": "ipython3",
   "version": "3.10.6"
  }
 },
 "nbformat": 4,
 "nbformat_minor": 5
}
